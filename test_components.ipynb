{
  "cells": [
    {
      "cell_type": "markdown",
      "metadata": {},
      "source": [
        "# OSC Market Intelligence App - Component Testing\n",
        "\n",
        "This notebook provides interactive testing of the main components of the Market Intelligence application, including comprehensive database testing.\n"
      ]
    },
    {
      "cell_type": "markdown",
      "metadata": {},
      "source": [
        "## 1. Setup and Imports\n"
      ]
    },
    {
      "cell_type": "code",
      "execution_count": 5,
      "metadata": {},
      "outputs": [
        {
          "name": "stdout",
          "output_type": "stream",
          "text": [
            "✅ All imports successful!\n"
          ]
        }
      ],
      "source": [
        "# Import required modules\n",
        "import sys\n",
        "from pathlib import Path\n",
        "\n",
        "# Ensure src is in the path\n",
        "project_root = Path.cwd()\n",
        "sys.path.insert(0, str(project_root))\n",
        "\n",
        "from src.config import DatabricksConfig, DatabaseConfig, AppConfig, OSC_COLORS, OSC_FONTS\n",
        "from src.databricks_client import (\n",
        "    get_workspace_client,\n",
        "    call_endpoint,\n",
        "    get_user_info,\n",
        "    format_response,\n",
        ")\n",
        "from src.database import (\n",
        "    init_database,\n",
        "    create_conversation,\n",
        "    add_message,\n",
        "    update_message,\n",
        "    get_conversation_messages,\n",
        "    get_message_by_query_id,\n",
        "    get_user_conversations,\n",
        ")\n",
        "\n",
        "print(\"✅ All imports successful!\")\n"
      ]
    },
    {
      "cell_type": "markdown",
      "metadata": {},
      "source": [
        "## 2. Test Configuration\n"
      ]
    },
    {
      "cell_type": "code",
      "execution_count": 6,
      "metadata": {},
      "outputs": [
        {
          "name": "stdout",
          "output_type": "stream",
          "text": [
            "App Configuration:\n",
            "  Title: OSC Market Intelligence\n",
            "  Layout: wide\n",
            "  Async Queries: True\n",
            "\n",
            "Databricks Configuration:\n",
            "  Host: https://e2-demo-field-eng.cloud.databricks.com\n",
            "  Endpoint: mas-1ab024e9-endpoint\n",
            "\n",
            "Database Configuration:\n",
            "  Host: instance-4401e5e2-c276-4302-8519-e9c3226ef66b.database.cloud.databricks.com\n",
            "  Database: osc-delete-nov1\n",
            "  Port: 5432\n",
            "\n",
            "Note: Databricks authentication uses SDK defaults (~/.databrickscfg or environment)\n",
            "Note: Database credentials come from environment variables (DB_USER, DB_PASSWORD)\n"
          ]
        }
      ],
      "source": [
        "# Load configurations\n",
        "app_config = AppConfig.from_config()\n",
        "databricks_config = DatabricksConfig.from_config()\n",
        "database_config = DatabaseConfig.from_config()\n",
        "\n",
        "print(\"App Configuration:\")\n",
        "print(f\"  Title: {app_config.title}\")\n",
        "print(f\"  Layout: {app_config.layout}\")\n",
        "print(f\"  Async Queries: {app_config.async_queries_enabled}\")\n",
        "print()\n",
        "print(\"Databricks Configuration:\")\n",
        "print(f\"  Host: {databricks_config.host}\")\n",
        "print(f\"  Endpoint: {databricks_config.endpoint_name}\")\n",
        "print()\n",
        "print(\"Database Configuration:\")\n",
        "print(f\"  Host: {database_config.host or 'Not configured'}\")\n",
        "print(f\"  Database: {database_config.name}\")\n",
        "print(f\"  Port: {database_config.port}\")\n",
        "print()\n",
        "print(\"Note: Databricks authentication uses SDK defaults (~/.databrickscfg or environment)\")\n",
        "print(\"Note: Database credentials come from environment variables (DB_USER, DB_PASSWORD)\")\n"
      ]
    },
    {
      "cell_type": "markdown",
      "metadata": {},
      "source": [
        "## 3. Initialize & Test Database\n",
        "\n",
        "This section will:\n",
        "- Test database connectivity\n",
        "- Create required tables if they don't exist\n",
        "- Verify the schema\n"
      ]
    },
    {
      "cell_type": "code",
      "execution_count": 7,
      "metadata": {},
      "outputs": [
        {
          "name": "stdout",
          "output_type": "stream",
          "text": [
            "✅ Databricks WorkspaceClient initialized for host: https://e2-demo-field-eng.cloud.databricks.com\n"
          ]
        }
      ],
      "source": [
        "from databricks.sdk import WorkspaceClient\n",
        "\n",
        "# Initialize workspace client using DatabricksConfig credentials\n",
        "client = WorkspaceClient(\n",
        "    host=databricks_config.host,\n",
        "    # Optionally, you could pass token/databricks_cfg_path, but defaults should work if env/config present\n",
        ")\n",
        "\n",
        "print(f\"✅ Databricks WorkspaceClient initialized for host: {databricks_config.host}\")\n",
        "\n"
      ]
    },
    {
      "cell_type": "code",
      "execution_count": 8,
      "metadata": {},
      "outputs": [
        {
          "ename": "AttributeError",
          "evalue": "'DatabaseConfig' object has no attribute 'database'",
          "output_type": "error",
          "traceback": [
            "\u001b[31m---------------------------------------------------------------------------\u001b[39m",
            "\u001b[31mAttributeError\u001b[39m                            Traceback (most recent call last)",
            "\u001b[36mCell\u001b[39m\u001b[36m \u001b[39m\u001b[32mIn[8]\u001b[39m\u001b[32m, line 13\u001b[39m\n\u001b[32m      7\u001b[39m instance = client.database.get_database_instance(name=instance_name)\n\u001b[32m      8\u001b[39m _credential = client.database.generate_database_credential(\n\u001b[32m      9\u001b[39m     request_id=\u001b[38;5;28mstr\u001b[39m(uuid.uuid4()), instance_names=[instance_name]\n\u001b[32m     10\u001b[39m )\n\u001b[32m     11\u001b[39m _connection_params = {\n\u001b[32m     12\u001b[39m     \u001b[33m\"\u001b[39m\u001b[33mhost\u001b[39m\u001b[33m\"\u001b[39m: instance.read_write_dns,\n\u001b[32m---> \u001b[39m\u001b[32m13\u001b[39m     \u001b[33m\"\u001b[39m\u001b[33mdbname\u001b[39m\u001b[33m\"\u001b[39m: \u001b[43mdatabase_config\u001b[49m\u001b[43m.\u001b[49m\u001b[43mdatabase\u001b[49m,\n\u001b[32m     14\u001b[39m     \u001b[33m\"\u001b[39m\u001b[33muser\u001b[39m\u001b[33m\"\u001b[39m: _user_email,\n\u001b[32m     15\u001b[39m     \u001b[33m\"\u001b[39m\u001b[33mpassword\u001b[39m\u001b[33m\"\u001b[39m: _credential.token,\n\u001b[32m     16\u001b[39m     \u001b[33m\"\u001b[39m\u001b[33msslmode\u001b[39m\u001b[33m\"\u001b[39m: \u001b[33m\"\u001b[39m\u001b[33mrequire\u001b[39m\u001b[33m\"\u001b[39m,\n\u001b[32m     17\u001b[39m }\n\u001b[32m     19\u001b[39m conn = psycopg2.connect(**_connection_params)\n",
            "\u001b[31mAttributeError\u001b[39m: 'DatabaseConfig' object has no attribute 'database'"
          ]
        }
      ],
      "source": [
        "import uuid\n",
        "import psycopg2\n",
        "\n",
        "user = client.current_user.me()\n",
        "_user_email = user.emails[0].value\n",
        "instance_name = database_config.name\n",
        "instance = client.database.get_database_instance(name=instance_name)\n",
        "_credential = client.database.generate_database_credential(\n",
        "    request_id=str(uuid.uuid4()), instance_names=[instance_name]\n",
        ")\n",
        "_connection_params = {\n",
        "    \"host\": instance.read_write_dns,\n",
        "    \"dbname\": database_config.database,\n",
        "    \"user\": _user_email,\n",
        "    \"password\": _credential.token,\n",
        "    \"sslmode\": \"require\",\n",
        "}\n",
        "\n",
        "conn = psycopg2.connect(**_connection_params)"
      ]
    },
    {
      "cell_type": "code",
      "execution_count": null,
      "metadata": {},
      "outputs": [
        {
          "name": "stdout",
          "output_type": "stream",
          "text": [
            "============================================================\n",
            "DATABASE INITIALIZATION & TESTING\n",
            "============================================================\n",
            "\n",
            "⚠️  Database is not configured\n",
            "\n",
            "To enable conversation history, set these environment variables:\n",
            "   export DB_USER=your_db_user\n",
            "   export DB_PASSWORD=your_db_password\n",
            "\n",
            "And configure in config.yaml:\n",
            "   database:\n",
            "     host: your_lakebase_host\n",
            "     port: 5432\n",
            "     name: market_intelligence\n",
            "\n",
            "App will continue without database (no conversation history)\n",
            "\n",
            "============================================================\n"
          ]
        }
      ],
      "source": [
        "# Initialize and test database connection\n",
        "print(\"=\" * 60)\n",
        "print(\"DATABASE INITIALIZATION & TESTING\")\n",
        "print(\"=\" * 60)\n",
        "\n",
        "# Check if database is configured\n",
        "db_configured = bool(database_config.host and database_config.user and database_config.password)\n",
        "\n",
        "if db_configured:\n",
        "    print(\"\\n✅ Database credentials are configured\")\n",
        "    print(f\"   Host: {database_config.host}\")\n",
        "    print(f\"   Port: {database_config.port}\")\n",
        "    print(f\"   Database: {database_config.name}\")\n",
        "    print(f\"   User: {database_config.user}\")\n",
        "    \n",
        "    print(\"\\n🔄 Testing database connection...\")\n",
        "    \n",
        "    try:\n",
        "        from src.database import get_connection\n",
        "        \n",
        "        # Test connection\n",
        "        with get_connection(database_config):\n",
        "            print(\"✅ Database connection successful!\")\n",
        "        \n",
        "        print(\"\\n🔧 Creating/verifying database schema...\")\n",
        "        print(\"   This will create tables if they don't exist:\")\n",
        "        print(\"   - conversations (stores conversation sessions)\")\n",
        "        print(\"   - messages (stores Q&A pairs with status tracking)\")\n",
        "        \n",
        "        # Initialize database (creates tables if they don't exist)\n",
        "        init_database(database_config)\n",
        "        \n",
        "        print(\"\\n✅ Database schema initialized successfully!\")\n",
        "        print(\"\\nDatabase tables created/verified:\")\n",
        "        print(\"   📋 conversations\")\n",
        "        print(\"      - id (primary key)\")\n",
        "        print(\"      - user_id\")\n",
        "        print(\"      - created_at\")\n",
        "        print(\"   📋 messages\")\n",
        "        print(\"      - id (primary key)\")\n",
        "        print(\"      - conversation_id (foreign key)\")\n",
        "        print(\"      - user_id\")\n",
        "        print(\"      - question\")\n",
        "        print(\"      - answer\")\n",
        "        print(\"      - status (pending/complete)\")\n",
        "        print(\"      - query_id (for async queries)\")\n",
        "        print(\"      - created_at\")\n",
        "        print(\"      - updated_at\")\n",
        "        print(\"   📋 indexes\")\n",
        "        print(\"      - idx_messages_conversation_id\")\n",
        "        print(\"      - idx_messages_query_id\")\n",
        "        \n",
        "        db_configured = True\n",
        "        \n",
        "    except Exception as e:\n",
        "        print(f\"\\n❌ Database error: {e}\")\n",
        "        print(\"\\nPossible issues:\")\n",
        "        print(\"   - Database host not accessible\")\n",
        "        print(\"   - Incorrect credentials\")\n",
        "        print(\"   - Database does not exist\")\n",
        "        print(\"   - Insufficient permissions\")\n",
        "        print(\"\\nApp will continue without database (no conversation history)\")\n",
        "        db_configured = False\n",
        "        \n",
        "else:\n",
        "    print(\"\\n⚠️  Database is not configured\")\n",
        "    print(\"\\nTo enable conversation history, set these environment variables:\")\n",
        "    print(\"   export DB_USER=your_db_user\")\n",
        "    print(\"   export DB_PASSWORD=your_db_password\")\n",
        "    print(\"\\nAnd configure in config.yaml:\")\n",
        "    print(\"   database:\")\n",
        "    print(\"     host: your_lakebase_host\")\n",
        "    print(\"     port: 5432\")\n",
        "    print(\"     name: market_intelligence\")\n",
        "    print(\"\\nApp will continue without database (no conversation history)\")\n",
        "\n",
        "print(\"\\n\" + \"=\" * 60)\n"
      ]
    },
    {
      "cell_type": "markdown",
      "metadata": {},
      "source": [
        "## 4. Test Database CRUD Operations\n",
        "\n",
        "Comprehensive testing of all database operations.\n"
      ]
    },
    {
      "cell_type": "code",
      "execution_count": null,
      "metadata": {},
      "outputs": [
        {
          "name": "stdout",
          "output_type": "stream",
          "text": [
            "\n",
            "⚠️ Skipping database tests - database not configured\n",
            "Set DB_USER and DB_PASSWORD environment variables and configure database in config.yaml\n"
          ]
        }
      ],
      "source": [
        "# Test database operations - CRUD operations\n",
        "if db_configured:\n",
        "    print(\"=\" * 60)\n",
        "    print(\"TESTING DATABASE OPERATIONS\")\n",
        "    print(\"=\" * 60)\n",
        "    \n",
        "    try:\n",
        "        # 1. Create a test conversation\n",
        "        print(\"\\n1️⃣  Creating test conversation...\")\n",
        "        test_user_id = \"test_user@example.com\"\n",
        "        conversation_id = create_conversation(database_config, test_user_id)\n",
        "        print(f\"   ✅ Created conversation with ID: {conversation_id}\")\n",
        "        \n",
        "        # 2. Add a test message\n",
        "        print(\"\\n2️⃣  Adding test message...\")\n",
        "        message_id = add_message(\n",
        "            database_config,\n",
        "            conversation_id=conversation_id,\n",
        "            user_id=test_user_id,\n",
        "            question=\"What is the market outlook for 2024?\",\n",
        "            answer=\"The market shows positive indicators with steady growth expected...\",\n",
        "            status=\"complete\"\n",
        "        )\n",
        "        print(f\"   ✅ Added message with ID: {message_id}\")\n",
        "        \n",
        "        # 3. Add a pending message (simulating async query)\n",
        "        print(\"\\n3️⃣  Adding pending message (async simulation)...\")\n",
        "        pending_message_id = add_message(\n",
        "            database_config,\n",
        "            conversation_id=conversation_id,\n",
        "            user_id=test_user_id,\n",
        "            question=\"Analyze trade execution patterns?\",\n",
        "            status=\"pending\",\n",
        "            query_id=\"test-query-123\"\n",
        "        )\n",
        "        print(f\"   ✅ Added pending message with ID: {pending_message_id}\")\n",
        "        \n",
        "        # 4. Update the pending message\n",
        "        print(\"\\n4️⃣  Updating pending message...\")\n",
        "        update_message(\n",
        "            database_config,\n",
        "            message_id=pending_message_id,\n",
        "            answer=\"Trade execution analysis complete: patterns show...\",\n",
        "            status=\"complete\"\n",
        "        )\n",
        "        print(f\"   ✅ Updated message {pending_message_id} to complete\")\n",
        "        \n",
        "        # 5. Retrieve all messages in conversation\n",
        "        print(\"\\n5️⃣  Retrieving conversation messages...\")\n",
        "        messages = get_conversation_messages(database_config, conversation_id)\n",
        "        print(f\"   ✅ Retrieved {len(messages)} message(s)\")\n",
        "        \n",
        "        print(\"\\n   📋 Conversation History:\")\n",
        "        for i, msg in enumerate(messages, 1):\n",
        "            print(f\"\\n   Message {i} (ID: {msg['id']})\")\n",
        "            print(f\"   ├─ Question: {msg['question'][:60]}...\")\n",
        "            print(f\"   ├─ Answer: {msg['answer'][:60] if msg['answer'] else 'N/A'}...\")\n",
        "            print(f\"   ├─ Status: {msg['status']}\")\n",
        "            print(f\"   ├─ Query ID: {msg['query_id'] or 'N/A'}\")\n",
        "            print(f\"   └─ Created: {msg['created_at']}\")\n",
        "        \n",
        "        # 6. Test query_id lookup\n",
        "        print(\"\\n6️⃣  Testing query_id lookup...\")\n",
        "        message_by_query = get_message_by_query_id(database_config, \"test-query-123\")\n",
        "        if message_by_query:\n",
        "            print(f\"   ✅ Found message by query_id: {message_by_query['id']}\")\n",
        "        else:\n",
        "            print(\"   ⚠️  No message found for query_id\")\n",
        "        \n",
        "        # 7. Get user conversations\n",
        "        print(\"\\n7️⃣  Retrieving user conversations...\")\n",
        "        conversations = get_user_conversations(database_config, test_user_id)\n",
        "        print(f\"   ✅ User has {len(conversations)} conversation(s)\")\n",
        "        \n",
        "        for conv in conversations:\n",
        "            print(f\"\\n   Conversation {conv['id']}:\")\n",
        "            print(f\"   ├─ Messages: {conv['message_count']}\")\n",
        "            print(f\"   └─ Created: {conv['created_at']}\")\n",
        "        \n",
        "        print(\"\\n\" + \"=\" * 60)\n",
        "        print(\"✅ ALL DATABASE TESTS PASSED!\")\n",
        "        print(\"=\" * 60)\n",
        "        \n",
        "    except Exception as e:\n",
        "        print(f\"\\n❌ Error testing database operations: {e}\")\n",
        "        import traceback\n",
        "        traceback.print_exc()\n",
        "        print(\"\\n\" + \"=\" * 60)\n",
        "else:\n",
        "    print(\"\\n⚠️ Skipping database tests - database not configured\")\n",
        "    print(\"Set DB_USER and DB_PASSWORD environment variables and configure database in config.yaml\")\n"
      ]
    },
    {
      "cell_type": "markdown",
      "metadata": {},
      "source": [
        "# OSC Market Intelligence App - Component Testing\n",
        "\n",
        "This notebook provides interactive testing of the main components of the Market Intelligence application.\n"
      ]
    },
    {
      "cell_type": "code",
      "execution_count": null,
      "metadata": {},
      "outputs": [
        {
          "name": "stdout",
          "output_type": "stream",
          "text": [
            "✅ All imports successful!\n"
          ]
        }
      ],
      "source": [
        "## 1. Setup and Imports\n",
        "import sys\n",
        "from pathlib import Path\n",
        "\n",
        "# Ensure src is in the path\n",
        "project_root = Path.cwd()\n",
        "sys.path.insert(0, str(project_root))\n",
        "\n",
        "from src.config import DatabricksConfig, DatabaseConfig, AppConfig, OSC_COLORS, OSC_FONTS\n",
        "from src.databricks_client import (\n",
        "    get_workspace_client,\n",
        "    call_endpoint,\n",
        "    get_user_info,\n",
        "    format_response,\n",
        ")\n",
        "from src.database import (\n",
        "    init_database,\n",
        "    create_conversation,\n",
        "    add_message,\n",
        "    update_message,\n",
        "    get_conversation_messages,\n",
        "    get_user_conversations,\n",
        ")\n",
        "\n",
        "print(\"✅ All imports successful!\")\n"
      ]
    },
    {
      "cell_type": "code",
      "execution_count": null,
      "metadata": {},
      "outputs": [
        {
          "name": "stdout",
          "output_type": "stream",
          "text": [
            "App Configuration:\n",
            "  Title: OSC Market Intelligence\n",
            "  Layout: wide\n",
            "  Async Queries: True\n",
            "\n",
            "Databricks Configuration:\n",
            "  Host: https://e2-demo-field-eng.cloud.databricks.com\n",
            "  Endpoint: mas-1ab024e9-endpoint\n",
            "\n",
            "Database Configuration:\n",
            "  Host: instance-4401e5e2-c276-4302-8519-e9c3226ef66b.database.cloud.databricks.com\n",
            "  Database: databricks_postgres\n",
            "  Port: 5432\n",
            "\n",
            "Note: Databricks authentication uses SDK defaults (~/.databrickscfg or environment)\n",
            "Note: Database credentials come from environment variables (DB_USER, DB_PASSWORD)\n"
          ]
        }
      ],
      "source": [
        "## 2. Test Configuration\n",
        "app_config = AppConfig.from_config()\n",
        "databricks_config = DatabricksConfig.from_config()\n",
        "database_config = DatabaseConfig.from_config()\n",
        "\n",
        "print(\"App Configuration:\")\n",
        "print(f\"  Title: {app_config.title}\")\n",
        "print(f\"  Layout: {app_config.layout}\")\n",
        "print(f\"  Async Queries: {app_config.async_queries_enabled}\")\n",
        "print()\n",
        "print(\"Databricks Configuration:\")\n",
        "print(f\"  Host: {databricks_config.host}\")\n",
        "print(f\"  Endpoint: {databricks_config.endpoint_name}\")\n",
        "print()\n",
        "print(\"Database Configuration:\")\n",
        "print(f\"  Host: {database_config.host or 'Not configured'}\")\n",
        "print(f\"  Database: {database_config.name}\")\n",
        "print(f\"  Port: {database_config.port}\")\n",
        "print()\n",
        "print(\"Note: Databricks authentication uses SDK defaults (~/.databrickscfg or environment)\")\n",
        "print(\"Note: Database credentials come from environment variables (DB_USER, DB_PASSWORD)\")\n"
      ]
    },
    {
      "cell_type": "code",
      "execution_count": null,
      "metadata": {},
      "outputs": [
        {
          "name": "stdout",
          "output_type": "stream",
          "text": [
            "✅ Databricks client initialized successfully\n",
            "\n",
            "User Information:\n",
            "  User ID: scott.mckean@databricks.com\n",
            "  Display Name: Scott McKean\n",
            "  Active: True\n"
          ]
        }
      ],
      "source": [
        "## 3. Test Databricks Authentication\n",
        "try:\n",
        "    client = get_workspace_client()\n",
        "    print(\"✅ Databricks client initialized successfully\")\n",
        "    \n",
        "    # Get user info\n",
        "    user_info = get_user_info(client)\n",
        "    print(f\"\\nUser Information:\")\n",
        "    print(f\"  User ID: {user_info['user_id']}\")\n",
        "    print(f\"  Display Name: {user_info['display_name']}\")\n",
        "    print(f\"  Active: {user_info['active']}\")\n",
        "except Exception as e:\n",
        "    print(f\"❌ Error initializing Databricks client: {e}\")\n",
        "    print(\"\\nMake sure you have configured your Databricks credentials in .env file\")\n"
      ]
    },
    {
      "cell_type": "code",
      "execution_count": null,
      "metadata": {},
      "outputs": [
        {
          "name": "stdout",
          "output_type": "stream",
          "text": [
            "Sending question: Summarize the Trade execution patterns and suspicious activity rates in the past 24 hours\n",
            "\n",
            "Calling endpoint...\n"
          ]
        },
        {
          "ename": "KeyboardInterrupt",
          "evalue": "",
          "output_type": "error",
          "traceback": [
            "\u001b[31m---------------------------------------------------------------------------\u001b[39m",
            "\u001b[31mKeyboardInterrupt\u001b[39m                         Traceback (most recent call last)",
            "\u001b[36mCell\u001b[39m\u001b[36m \u001b[39m\u001b[32mIn[8]\u001b[39m\u001b[32m, line 9\u001b[39m\n\u001b[32m      6\u001b[39m \u001b[38;5;28mprint\u001b[39m(\u001b[33m\"\u001b[39m\u001b[38;5;130;01m\\n\u001b[39;00m\u001b[33mCalling endpoint...\u001b[39m\u001b[33m\"\u001b[39m)\n\u001b[32m      8\u001b[39m \u001b[38;5;66;03m# The call_endpoint function now handles the host configuration internally\u001b[39;00m\n\u001b[32m----> \u001b[39m\u001b[32m9\u001b[39m response = \u001b[43mcall_endpoint\u001b[49m\u001b[43m(\u001b[49m\n\u001b[32m     10\u001b[39m \u001b[43m    \u001b[49m\u001b[43mdatabricks_config\u001b[49m\u001b[43m,\u001b[49m\n\u001b[32m     11\u001b[39m \u001b[43m    \u001b[49m\u001b[43mtest_question\u001b[49m\n\u001b[32m     12\u001b[39m \u001b[43m\u001b[49m\u001b[43m)\u001b[49m\n\u001b[32m     14\u001b[39m \u001b[38;5;28mprint\u001b[39m(\u001b[33m\"\u001b[39m\u001b[38;5;130;01m\\n\u001b[39;00m\u001b[33m✅ Response received!\u001b[39m\u001b[33m\"\u001b[39m)\n\u001b[32m     15\u001b[39m \u001b[38;5;28mprint\u001b[39m(\u001b[33m\"\u001b[39m\u001b[38;5;130;01m\\n\u001b[39;00m\u001b[33mRaw response:\u001b[39m\u001b[33m\"\u001b[39m)\n",
            "\u001b[36mFile \u001b[39m\u001b[32m~/Repos/market_intelligence_app/src/databricks_client.py:47\u001b[39m, in \u001b[36mcall_endpoint\u001b[39m\u001b[34m(config, question, max_tokens)\u001b[39m\n\u001b[32m     40\u001b[39m payload = {\n\u001b[32m     41\u001b[39m     \u001b[33m\"\u001b[39m\u001b[33minputs\u001b[39m\u001b[33m\"\u001b[39m: {\n\u001b[32m     42\u001b[39m         \u001b[33m\"\u001b[39m\u001b[33minput\u001b[39m\u001b[33m\"\u001b[39m: [{\u001b[33m\"\u001b[39m\u001b[33mcontent\u001b[39m\u001b[33m\"\u001b[39m: question, \u001b[33m\"\u001b[39m\u001b[33mrole\u001b[39m\u001b[33m\"\u001b[39m: \u001b[33m\"\u001b[39m\u001b[33muser\u001b[39m\u001b[33m\"\u001b[39m, \u001b[33m\"\u001b[39m\u001b[33mtype\u001b[39m\u001b[33m\"\u001b[39m: \u001b[33m\"\u001b[39m\u001b[33mmessage\u001b[39m\u001b[33m\"\u001b[39m}],\n\u001b[32m     43\u001b[39m     }\n\u001b[32m     44\u001b[39m }\n\u001b[32m     46\u001b[39m \u001b[38;5;66;03m# Make the request\u001b[39;00m\n\u001b[32m---> \u001b[39m\u001b[32m47\u001b[39m response = \u001b[43mclient\u001b[49m\u001b[43m.\u001b[49m\u001b[43mpredict\u001b[49m\u001b[43m(\u001b[49m\n\u001b[32m     48\u001b[39m \u001b[43m    \u001b[49m\u001b[43mendpoint\u001b[49m\u001b[43m=\u001b[49m\u001b[43mconfig\u001b[49m\u001b[43m.\u001b[49m\u001b[43mendpoint_name\u001b[49m\u001b[43m,\u001b[49m\n\u001b[32m     49\u001b[39m \u001b[43m    \u001b[49m\u001b[43minputs\u001b[49m\u001b[43m=\u001b[49m\u001b[43mpayload\u001b[49m\u001b[43m,\u001b[49m\n\u001b[32m     50\u001b[39m \u001b[43m\u001b[49m\u001b[43m)\u001b[49m\n\u001b[32m     52\u001b[39m \u001b[38;5;28;01mreturn\u001b[39;00m response\n",
            "\u001b[36mFile \u001b[39m\u001b[32m~/Repos/market_intelligence_app/.venv/lib/python3.12/site-packages/mlflow/deployments/databricks/__init__.py:262\u001b[39m, in \u001b[36mDatabricksDeploymentClient.predict\u001b[39m\u001b[34m(self, deployment_name, inputs, endpoint)\u001b[39m\n\u001b[32m    211\u001b[39m \u001b[38;5;28;01mdef\u001b[39;00m\u001b[38;5;250m \u001b[39m\u001b[34mpredict\u001b[39m(\u001b[38;5;28mself\u001b[39m, deployment_name=\u001b[38;5;28;01mNone\u001b[39;00m, inputs=\u001b[38;5;28;01mNone\u001b[39;00m, endpoint=\u001b[38;5;28;01mNone\u001b[39;00m):\n\u001b[32m    212\u001b[39m \u001b[38;5;250m    \u001b[39m\u001b[33;03m\"\"\"\u001b[39;00m\n\u001b[32m    213\u001b[39m \u001b[33;03m    Query a serving endpoint with the provided model inputs.\u001b[39;00m\n\u001b[32m    214\u001b[39m \u001b[33;03m    See https://docs.databricks.com/api/workspace/servingendpoints/query for request/response\u001b[39;00m\n\u001b[32m   (...)\u001b[39m\u001b[32m    260\u001b[39m \u001b[33;03m        }\u001b[39;00m\n\u001b[32m    261\u001b[39m \u001b[33;03m    \"\"\"\u001b[39;00m\n\u001b[32m--> \u001b[39m\u001b[32m262\u001b[39m     \u001b[38;5;28;01mreturn\u001b[39;00m \u001b[38;5;28;43mself\u001b[39;49m\u001b[43m.\u001b[49m\u001b[43m_call_endpoint\u001b[49m\u001b[43m(\u001b[49m\n\u001b[32m    263\u001b[39m \u001b[43m        \u001b[49m\u001b[43mmethod\u001b[49m\u001b[43m=\u001b[49m\u001b[33;43m\"\u001b[39;49m\u001b[33;43mPOST\u001b[39;49m\u001b[33;43m\"\u001b[39;49m\u001b[43m,\u001b[49m\n\u001b[32m    264\u001b[39m \u001b[43m        \u001b[49m\u001b[43mprefix\u001b[49m\u001b[43m=\u001b[49m\u001b[33;43m\"\u001b[39;49m\u001b[33;43m/\u001b[39;49m\u001b[33;43m\"\u001b[39;49m\u001b[43m,\u001b[49m\n\u001b[32m    265\u001b[39m \u001b[43m        \u001b[49m\u001b[43mroute\u001b[49m\u001b[43m=\u001b[49m\u001b[43mposixpath\u001b[49m\u001b[43m.\u001b[49m\u001b[43mjoin\u001b[49m\u001b[43m(\u001b[49m\u001b[43mendpoint\u001b[49m\u001b[43m,\u001b[49m\u001b[43m \u001b[49m\u001b[33;43m\"\u001b[39;49m\u001b[33;43minvocations\u001b[39;49m\u001b[33;43m\"\u001b[39;49m\u001b[43m)\u001b[49m\u001b[43m,\u001b[49m\n\u001b[32m    266\u001b[39m \u001b[43m        \u001b[49m\u001b[43mjson_body\u001b[49m\u001b[43m=\u001b[49m\u001b[43minputs\u001b[49m\u001b[43m,\u001b[49m\n\u001b[32m    267\u001b[39m \u001b[43m        \u001b[49m\u001b[43mtimeout\u001b[49m\u001b[43m=\u001b[49m\u001b[43mMLFLOW_DEPLOYMENT_PREDICT_TIMEOUT\u001b[49m\u001b[43m.\u001b[49m\u001b[43mget\u001b[49m\u001b[43m(\u001b[49m\u001b[43m)\u001b[49m\u001b[43m,\u001b[49m\n\u001b[32m    268\u001b[39m \u001b[43m        \u001b[49m\u001b[43mretry_timeout_seconds\u001b[49m\u001b[43m=\u001b[49m\u001b[43mMLFLOW_DEPLOYMENT_PREDICT_TOTAL_TIMEOUT\u001b[49m\u001b[43m.\u001b[49m\u001b[43mget\u001b[49m\u001b[43m(\u001b[49m\u001b[43m)\u001b[49m\u001b[43m,\u001b[49m\n\u001b[32m    269\u001b[39m \u001b[43m    \u001b[49m\u001b[43m)\u001b[49m\n",
            "\u001b[36mFile \u001b[39m\u001b[32m~/Repos/market_intelligence_app/.venv/lib/python3.12/site-packages/mlflow/deployments/databricks/__init__.py:154\u001b[39m, in \u001b[36mDatabricksDeploymentClient._call_endpoint\u001b[39m\u001b[34m(self, method, prefix, route, json_body, timeout, retry_timeout_seconds)\u001b[39m\n\u001b[32m    151\u001b[39m \u001b[38;5;28;01melse\u001b[39;00m:\n\u001b[32m    152\u001b[39m     call_kwargs[\u001b[33m\"\u001b[39m\u001b[33mjson\u001b[39m\u001b[33m\"\u001b[39m] = json_body\n\u001b[32m--> \u001b[39m\u001b[32m154\u001b[39m response = \u001b[43mhttp_request\u001b[49m\u001b[43m(\u001b[49m\n\u001b[32m    155\u001b[39m \u001b[43m    \u001b[49m\u001b[43mhost_creds\u001b[49m\u001b[43m=\u001b[49m\u001b[43mget_databricks_host_creds\u001b[49m\u001b[43m(\u001b[49m\u001b[38;5;28;43mself\u001b[39;49m\u001b[43m.\u001b[49m\u001b[43mtarget_uri\u001b[49m\u001b[43m)\u001b[49m\u001b[43m,\u001b[49m\n\u001b[32m    156\u001b[39m \u001b[43m    \u001b[49m\u001b[43mendpoint\u001b[49m\u001b[43m=\u001b[49m\u001b[43mposixpath\u001b[49m\u001b[43m.\u001b[49m\u001b[43mjoin\u001b[49m\u001b[43m(\u001b[49m\u001b[43mprefix\u001b[49m\u001b[43m,\u001b[49m\u001b[43m \u001b[49m\u001b[33;43m\"\u001b[39;49m\u001b[33;43mserving-endpoints\u001b[39;49m\u001b[33;43m\"\u001b[39;49m\u001b[43m,\u001b[49m\u001b[43m \u001b[49m\u001b[43mroute\u001b[49m\u001b[43m \u001b[49m\u001b[38;5;129;43;01mor\u001b[39;49;00m\u001b[43m \u001b[49m\u001b[33;43m\"\u001b[39;49m\u001b[33;43m\"\u001b[39;49m\u001b[43m)\u001b[49m\u001b[43m,\u001b[49m\n\u001b[32m    157\u001b[39m \u001b[43m    \u001b[49m\u001b[43mmethod\u001b[49m\u001b[43m=\u001b[49m\u001b[43mmethod\u001b[49m\u001b[43m,\u001b[49m\n\u001b[32m    158\u001b[39m \u001b[43m    \u001b[49m\u001b[43mtimeout\u001b[49m\u001b[43m=\u001b[49m\u001b[43mMLFLOW_HTTP_REQUEST_TIMEOUT\u001b[49m\u001b[43m.\u001b[49m\u001b[43mget\u001b[49m\u001b[43m(\u001b[49m\u001b[43m)\u001b[49m\u001b[43m \u001b[49m\u001b[38;5;28;43;01mif\u001b[39;49;00m\u001b[43m \u001b[49m\u001b[43mtimeout\u001b[49m\u001b[43m \u001b[49m\u001b[38;5;129;43;01mis\u001b[39;49;00m\u001b[43m \u001b[49m\u001b[38;5;28;43;01mNone\u001b[39;49;00m\u001b[43m \u001b[49m\u001b[38;5;28;43;01melse\u001b[39;49;00m\u001b[43m \u001b[49m\u001b[43mtimeout\u001b[49m\u001b[43m,\u001b[49m\n\u001b[32m    159\u001b[39m \u001b[43m    \u001b[49m\u001b[43mretry_timeout_seconds\u001b[49m\u001b[43m=\u001b[49m\u001b[43mretry_timeout_seconds\u001b[49m\u001b[43m,\u001b[49m\n\u001b[32m    160\u001b[39m \u001b[43m    \u001b[49m\u001b[43mraise_on_status\u001b[49m\u001b[43m=\u001b[49m\u001b[38;5;28;43;01mFalse\u001b[39;49;00m\u001b[43m,\u001b[49m\n\u001b[32m    161\u001b[39m \u001b[43m    \u001b[49m\u001b[43mretry_codes\u001b[49m\u001b[43m=\u001b[49m\u001b[43mMLFLOW_DEPLOYMENT_CLIENT_REQUEST_RETRY_CODES\u001b[49m\u001b[43m,\u001b[49m\n\u001b[32m    162\u001b[39m \u001b[43m    \u001b[49m\u001b[43mextra_headers\u001b[49m\u001b[43m=\u001b[49m\u001b[43m{\u001b[49m\u001b[33;43m\"\u001b[39;49m\u001b[33;43mX-Databricks-Endpoints-API-Client\u001b[39;49m\u001b[33;43m\"\u001b[39;49m\u001b[43m:\u001b[49m\u001b[43m \u001b[49m\u001b[33;43m\"\u001b[39;49m\u001b[33;43mDatabricks Deployment Client\u001b[39;49m\u001b[33;43m\"\u001b[39;49m\u001b[43m}\u001b[49m\u001b[43m,\u001b[49m\n\u001b[32m    163\u001b[39m \u001b[43m    \u001b[49m\u001b[43m*\u001b[49m\u001b[43m*\u001b[49m\u001b[43mcall_kwargs\u001b[49m\u001b[43m,\u001b[49m\n\u001b[32m    164\u001b[39m \u001b[43m\u001b[49m\u001b[43m)\u001b[49m\n\u001b[32m    165\u001b[39m augmented_raise_for_status(response)\n\u001b[32m    166\u001b[39m \u001b[38;5;28;01mreturn\u001b[39;00m DatabricksEndpoint(response.json())\n",
            "\u001b[36mFile \u001b[39m\u001b[32m~/Repos/market_intelligence_app/.venv/lib/python3.12/site-packages/mlflow/utils/rest_utils.py:167\u001b[39m, in \u001b[36mhttp_request\u001b[39m\u001b[34m(host_creds, endpoint, method, max_retries, backoff_factor, backoff_jitter, extra_headers, retry_codes, timeout, raise_on_status, respect_retry_after_header, retry_timeout_seconds, **kwargs)\u001b[39m\n\u001b[32m    152\u001b[39m         \u001b[38;5;28;01mreturn\u001b[39;00m raw_response[\u001b[33m\"\u001b[39m\u001b[33mcontents\u001b[39m\u001b[33m\"\u001b[39m]._response\n\u001b[32m    154\u001b[39m \u001b[38;5;28;01mtry\u001b[39;00m:\n\u001b[32m    155\u001b[39m     \u001b[38;5;66;03m# We retry the SDK call with exponential backoff because the Databricks SDK default\u001b[39;00m\n\u001b[32m    156\u001b[39m     \u001b[38;5;66;03m# retry behavior does not handle all transient errors that we want to retry, and it\u001b[39;00m\n\u001b[32m   (...)\u001b[39m\u001b[32m    165\u001b[39m     \u001b[38;5;66;03m# practices (e.g. retrying on 429, 500, 503, etc.), support custom retries in Databricks\u001b[39;00m\n\u001b[32m    166\u001b[39m     \u001b[38;5;66;03m# SDK, and remove this custom retry wrapper from MLflow\u001b[39;00m\n\u001b[32m--> \u001b[39m\u001b[32m167\u001b[39m     \u001b[38;5;28;01mreturn\u001b[39;00m \u001b[43m_retry_databricks_sdk_call_with_exponential_backoff\u001b[49m\u001b[43m(\u001b[49m\n\u001b[32m    168\u001b[39m \u001b[43m        \u001b[49m\u001b[43mcall_func\u001b[49m\u001b[43m=\u001b[49m\u001b[43mmake_sdk_call\u001b[49m\u001b[43m,\u001b[49m\n\u001b[32m    169\u001b[39m \u001b[43m        \u001b[49m\u001b[43mretry_codes\u001b[49m\u001b[43m=\u001b[49m\u001b[43mretry_codes\u001b[49m\u001b[43m,\u001b[49m\n\u001b[32m    170\u001b[39m \u001b[43m        \u001b[49m\u001b[43mretry_timeout_seconds\u001b[49m\u001b[43m=\u001b[49m\u001b[43m(\u001b[49m\n\u001b[32m    171\u001b[39m \u001b[43m            \u001b[49m\u001b[43mretry_timeout_seconds\u001b[49m\n\u001b[32m    172\u001b[39m \u001b[43m            \u001b[49m\u001b[38;5;28;43;01mif\u001b[39;49;00m\u001b[43m \u001b[49m\u001b[43mretry_timeout_seconds\u001b[49m\u001b[43m \u001b[49m\u001b[38;5;129;43;01mis\u001b[39;49;00m\u001b[43m \u001b[49m\u001b[38;5;129;43;01mnot\u001b[39;49;00m\u001b[43m \u001b[49m\u001b[38;5;28;43;01mNone\u001b[39;49;00m\n\u001b[32m    173\u001b[39m \u001b[43m            \u001b[49m\u001b[38;5;28;43;01melse\u001b[39;49;00m\u001b[43m \u001b[49m\u001b[43mMLFLOW_DATABRICKS_ENDPOINT_HTTP_RETRY_TIMEOUT\u001b[49m\u001b[43m.\u001b[49m\u001b[43mget\u001b[49m\u001b[43m(\u001b[49m\u001b[43m)\u001b[49m\n\u001b[32m    174\u001b[39m \u001b[43m        \u001b[49m\u001b[43m)\u001b[49m\u001b[43m,\u001b[49m\n\u001b[32m    175\u001b[39m \u001b[43m        \u001b[49m\u001b[43mbackoff_factor\u001b[49m\u001b[43m=\u001b[49m\u001b[43mbackoff_factor\u001b[49m\u001b[43m,\u001b[49m\n\u001b[32m    176\u001b[39m \u001b[43m        \u001b[49m\u001b[43mbackoff_jitter\u001b[49m\u001b[43m=\u001b[49m\u001b[43mbackoff_jitter\u001b[49m\u001b[43m,\u001b[49m\n\u001b[32m    177\u001b[39m \u001b[43m        \u001b[49m\u001b[43mmax_retries\u001b[49m\u001b[43m=\u001b[49m\u001b[43mmax_retries\u001b[49m\u001b[43m,\u001b[49m\n\u001b[32m    178\u001b[39m \u001b[43m    \u001b[49m\u001b[43m)\u001b[49m\n\u001b[32m    179\u001b[39m \u001b[38;5;28;01mexcept\u001b[39;00m DatabricksError \u001b[38;5;28;01mas\u001b[39;00m e:\n\u001b[32m    180\u001b[39m     response = requests.Response()\n",
            "\u001b[36mFile \u001b[39m\u001b[32m~/Repos/market_intelligence_app/.venv/lib/python3.12/site-packages/mlflow/utils/rest_utils.py:446\u001b[39m, in \u001b[36m_retry_databricks_sdk_call_with_exponential_backoff\u001b[39m\u001b[34m(call_func, retry_codes, retry_timeout_seconds, backoff_factor, backoff_jitter, max_retries)\u001b[39m\n\u001b[32m    444\u001b[39m \u001b[38;5;28;01mwhile\u001b[39;00m attempt <= max_retries:\n\u001b[32m    445\u001b[39m     \u001b[38;5;28;01mtry\u001b[39;00m:\n\u001b[32m--> \u001b[39m\u001b[32m446\u001b[39m         \u001b[38;5;28;01mreturn\u001b[39;00m \u001b[43mcall_func\u001b[49m\u001b[43m(\u001b[49m\u001b[43m)\u001b[49m\n\u001b[32m    447\u001b[39m     \u001b[38;5;28;01mexcept\u001b[39;00m DatabricksError \u001b[38;5;28;01mas\u001b[39;00m e:\n\u001b[32m    448\u001b[39m         \u001b[38;5;66;03m# Get HTTP status code from the error\u001b[39;00m\n\u001b[32m    449\u001b[39m         status_code = \u001b[38;5;28mnext\u001b[39m(\n\u001b[32m    450\u001b[39m             (code \u001b[38;5;28;01mfor\u001b[39;00m code, \u001b[38;5;28mcls\u001b[39m \u001b[38;5;129;01min\u001b[39;00m STATUS_CODE_MAPPING.items() \u001b[38;5;28;01mif\u001b[39;00m \u001b[38;5;28misinstance\u001b[39m(e, \u001b[38;5;28mcls\u001b[39m)), \u001b[32m500\u001b[39m\n\u001b[32m    451\u001b[39m         )\n",
            "\u001b[36mFile \u001b[39m\u001b[32m~/Repos/market_intelligence_app/.venv/lib/python3.12/site-packages/mlflow/utils/rest_utils.py:142\u001b[39m, in \u001b[36mhttp_request.<locals>.make_sdk_call\u001b[39m\u001b[34m()\u001b[39m\n\u001b[32m    138\u001b[39m \u001b[38;5;28;01mwith\u001b[39;00m warnings.catch_warnings():\n\u001b[32m    139\u001b[39m     warnings.filterwarnings(\n\u001b[32m    140\u001b[39m         \u001b[33m\"\u001b[39m\u001b[33mignore\u001b[39m\u001b[33m\"\u001b[39m, message=\u001b[33mf\u001b[39m\u001b[33m\"\u001b[39m\u001b[33m.*\u001b[39m\u001b[38;5;132;01m{\u001b[39;00m_DATABRICKS_SDK_RETRY_AFTER_SECS_DEPRECATION_WARNING\u001b[38;5;132;01m}\u001b[39;00m\u001b[33m.*\u001b[39m\u001b[33m\"\u001b[39m\n\u001b[32m    141\u001b[39m     )\n\u001b[32m--> \u001b[39m\u001b[32m142\u001b[39m     raw_response = \u001b[43mws_client\u001b[49m\u001b[43m.\u001b[49m\u001b[43mapi_client\u001b[49m\u001b[43m.\u001b[49m\u001b[43mdo\u001b[49m\u001b[43m(\u001b[49m\n\u001b[32m    143\u001b[39m \u001b[43m        \u001b[49m\u001b[43mmethod\u001b[49m\u001b[43m=\u001b[49m\u001b[43mmethod\u001b[49m\u001b[43m,\u001b[49m\n\u001b[32m    144\u001b[39m \u001b[43m        \u001b[49m\u001b[43mpath\u001b[49m\u001b[43m=\u001b[49m\u001b[43mendpoint\u001b[49m\u001b[43m,\u001b[49m\n\u001b[32m    145\u001b[39m \u001b[43m        \u001b[49m\u001b[43mheaders\u001b[49m\u001b[43m=\u001b[49m\u001b[43mheaders\u001b[49m\u001b[43m,\u001b[49m\n\u001b[32m    146\u001b[39m \u001b[43m        \u001b[49m\u001b[43mraw\u001b[49m\u001b[43m=\u001b[49m\u001b[38;5;28;43;01mTrue\u001b[39;49;00m\u001b[43m,\u001b[49m\n\u001b[32m    147\u001b[39m \u001b[43m        \u001b[49m\u001b[43mquery\u001b[49m\u001b[43m=\u001b[49m\u001b[43mkwargs\u001b[49m\u001b[43m.\u001b[49m\u001b[43mget\u001b[49m\u001b[43m(\u001b[49m\u001b[33;43m\"\u001b[39;49m\u001b[33;43mparams\u001b[39;49m\u001b[33;43m\"\u001b[39;49m\u001b[43m)\u001b[49m\u001b[43m,\u001b[49m\n\u001b[32m    148\u001b[39m \u001b[43m        \u001b[49m\u001b[43mbody\u001b[49m\u001b[43m=\u001b[49m\u001b[43mkwargs\u001b[49m\u001b[43m.\u001b[49m\u001b[43mget\u001b[49m\u001b[43m(\u001b[49m\u001b[33;43m\"\u001b[39;49m\u001b[33;43mjson\u001b[39;49m\u001b[33;43m\"\u001b[39;49m\u001b[43m)\u001b[49m\u001b[43m,\u001b[49m\n\u001b[32m    149\u001b[39m \u001b[43m        \u001b[49m\u001b[43mfiles\u001b[49m\u001b[43m=\u001b[49m\u001b[43mkwargs\u001b[49m\u001b[43m.\u001b[49m\u001b[43mget\u001b[49m\u001b[43m(\u001b[49m\u001b[33;43m\"\u001b[39;49m\u001b[33;43mfiles\u001b[39;49m\u001b[33;43m\"\u001b[39;49m\u001b[43m)\u001b[49m\u001b[43m,\u001b[49m\n\u001b[32m    150\u001b[39m \u001b[43m        \u001b[49m\u001b[43mdata\u001b[49m\u001b[43m=\u001b[49m\u001b[43mkwargs\u001b[49m\u001b[43m.\u001b[49m\u001b[43mget\u001b[49m\u001b[43m(\u001b[49m\u001b[33;43m\"\u001b[39;49m\u001b[33;43mdata\u001b[39;49m\u001b[33;43m\"\u001b[39;49m\u001b[43m)\u001b[49m\u001b[43m,\u001b[49m\n\u001b[32m    151\u001b[39m \u001b[43m    \u001b[49m\u001b[43m)\u001b[49m\n\u001b[32m    152\u001b[39m     \u001b[38;5;28;01mreturn\u001b[39;00m raw_response[\u001b[33m\"\u001b[39m\u001b[33mcontents\u001b[39m\u001b[33m\"\u001b[39m]._response\n",
            "\u001b[36mFile \u001b[39m\u001b[32m~/Repos/market_intelligence_app/.venv/lib/python3.12/site-packages/databricks/sdk/core.py:85\u001b[39m, in \u001b[36mApiClient.do\u001b[39m\u001b[34m(self, method, path, url, query, headers, body, raw, files, data, auth, response_headers)\u001b[39m\n\u001b[32m     83\u001b[39m     path = re.sub(\u001b[33m\"\u001b[39m\u001b[33m^/api/2.0/fs/files//\u001b[39m\u001b[33m\"\u001b[39m, \u001b[33m\"\u001b[39m\u001b[33m/api/2.0/fs/files/\u001b[39m\u001b[33m\"\u001b[39m, path)\n\u001b[32m     84\u001b[39m     url = \u001b[33mf\u001b[39m\u001b[33m\"\u001b[39m\u001b[38;5;132;01m{\u001b[39;00m\u001b[38;5;28mself\u001b[39m._cfg.host\u001b[38;5;132;01m}\u001b[39;00m\u001b[38;5;132;01m{\u001b[39;00mpath\u001b[38;5;132;01m}\u001b[39;00m\u001b[33m\"\u001b[39m\n\u001b[32m---> \u001b[39m\u001b[32m85\u001b[39m \u001b[38;5;28;01mreturn\u001b[39;00m \u001b[38;5;28;43mself\u001b[39;49m\u001b[43m.\u001b[49m\u001b[43m_api_client\u001b[49m\u001b[43m.\u001b[49m\u001b[43mdo\u001b[49m\u001b[43m(\u001b[49m\n\u001b[32m     86\u001b[39m \u001b[43m    \u001b[49m\u001b[43mmethod\u001b[49m\u001b[43m=\u001b[49m\u001b[43mmethod\u001b[49m\u001b[43m,\u001b[49m\n\u001b[32m     87\u001b[39m \u001b[43m    \u001b[49m\u001b[43murl\u001b[49m\u001b[43m=\u001b[49m\u001b[43murl\u001b[49m\u001b[43m,\u001b[49m\n\u001b[32m     88\u001b[39m \u001b[43m    \u001b[49m\u001b[43mquery\u001b[49m\u001b[43m=\u001b[49m\u001b[43mquery\u001b[49m\u001b[43m,\u001b[49m\n\u001b[32m     89\u001b[39m \u001b[43m    \u001b[49m\u001b[43mheaders\u001b[49m\u001b[43m=\u001b[49m\u001b[43mheaders\u001b[49m\u001b[43m,\u001b[49m\n\u001b[32m     90\u001b[39m \u001b[43m    \u001b[49m\u001b[43mbody\u001b[49m\u001b[43m=\u001b[49m\u001b[43mbody\u001b[49m\u001b[43m,\u001b[49m\n\u001b[32m     91\u001b[39m \u001b[43m    \u001b[49m\u001b[43mraw\u001b[49m\u001b[43m=\u001b[49m\u001b[43mraw\u001b[49m\u001b[43m,\u001b[49m\n\u001b[32m     92\u001b[39m \u001b[43m    \u001b[49m\u001b[43mfiles\u001b[49m\u001b[43m=\u001b[49m\u001b[43mfiles\u001b[49m\u001b[43m,\u001b[49m\n\u001b[32m     93\u001b[39m \u001b[43m    \u001b[49m\u001b[43mdata\u001b[49m\u001b[43m=\u001b[49m\u001b[43mdata\u001b[49m\u001b[43m,\u001b[49m\n\u001b[32m     94\u001b[39m \u001b[43m    \u001b[49m\u001b[43mauth\u001b[49m\u001b[43m=\u001b[49m\u001b[43mauth\u001b[49m\u001b[43m,\u001b[49m\n\u001b[32m     95\u001b[39m \u001b[43m    \u001b[49m\u001b[43mresponse_headers\u001b[49m\u001b[43m=\u001b[49m\u001b[43mresponse_headers\u001b[49m\u001b[43m,\u001b[49m\n\u001b[32m     96\u001b[39m \u001b[43m\u001b[49m\u001b[43m)\u001b[49m\n",
            "\u001b[36mFile \u001b[39m\u001b[32m~/Repos/market_intelligence_app/.venv/lib/python3.12/site-packages/databricks/sdk/_base_client.py:199\u001b[39m, in \u001b[36m_BaseClient.do\u001b[39m\u001b[34m(self, method, url, query, headers, body, raw, files, data, auth, response_headers)\u001b[39m\n\u001b[32m    196\u001b[39m     logger.debug(\u001b[33mf\u001b[39m\u001b[33m\"\u001b[39m\u001b[33mRetry disabled for non-seekable stream: type=\u001b[39m\u001b[38;5;132;01m{\u001b[39;00m\u001b[38;5;28mtype\u001b[39m(data)\u001b[38;5;132;01m}\u001b[39;00m\u001b[33m\"\u001b[39m)\n\u001b[32m    197\u001b[39m     call = \u001b[38;5;28mself\u001b[39m._perform\n\u001b[32m--> \u001b[39m\u001b[32m199\u001b[39m response = \u001b[43mcall\u001b[49m\u001b[43m(\u001b[49m\n\u001b[32m    200\u001b[39m \u001b[43m    \u001b[49m\u001b[43mmethod\u001b[49m\u001b[43m,\u001b[49m\n\u001b[32m    201\u001b[39m \u001b[43m    \u001b[49m\u001b[43murl\u001b[49m\u001b[43m,\u001b[49m\n\u001b[32m    202\u001b[39m \u001b[43m    \u001b[49m\u001b[43mquery\u001b[49m\u001b[43m=\u001b[49m\u001b[43mquery\u001b[49m\u001b[43m,\u001b[49m\n\u001b[32m    203\u001b[39m \u001b[43m    \u001b[49m\u001b[43mheaders\u001b[49m\u001b[43m=\u001b[49m\u001b[43mheaders\u001b[49m\u001b[43m,\u001b[49m\n\u001b[32m    204\u001b[39m \u001b[43m    \u001b[49m\u001b[43mbody\u001b[49m\u001b[43m=\u001b[49m\u001b[43mbody\u001b[49m\u001b[43m,\u001b[49m\n\u001b[32m    205\u001b[39m \u001b[43m    \u001b[49m\u001b[43mraw\u001b[49m\u001b[43m=\u001b[49m\u001b[43mraw\u001b[49m\u001b[43m,\u001b[49m\n\u001b[32m    206\u001b[39m \u001b[43m    \u001b[49m\u001b[43mfiles\u001b[49m\u001b[43m=\u001b[49m\u001b[43mfiles\u001b[49m\u001b[43m,\u001b[49m\n\u001b[32m    207\u001b[39m \u001b[43m    \u001b[49m\u001b[43mdata\u001b[49m\u001b[43m=\u001b[49m\u001b[43mdata\u001b[49m\u001b[43m,\u001b[49m\n\u001b[32m    208\u001b[39m \u001b[43m    \u001b[49m\u001b[43mauth\u001b[49m\u001b[43m=\u001b[49m\u001b[43mauth\u001b[49m\u001b[43m,\u001b[49m\n\u001b[32m    209\u001b[39m \u001b[43m\u001b[49m\u001b[43m)\u001b[49m\n\u001b[32m    211\u001b[39m resp = \u001b[38;5;28mdict\u001b[39m()\n\u001b[32m    212\u001b[39m \u001b[38;5;28;01mfor\u001b[39;00m header \u001b[38;5;129;01min\u001b[39;00m response_headers \u001b[38;5;28;01mif\u001b[39;00m response_headers \u001b[38;5;28;01melse\u001b[39;00m []:\n",
            "\u001b[36mFile \u001b[39m\u001b[32m~/Repos/market_intelligence_app/.venv/lib/python3.12/site-packages/databricks/sdk/retries.py:38\u001b[39m, in \u001b[36mretried.<locals>.decorator.<locals>.wrapper\u001b[39m\u001b[34m(*args, **kwargs)\u001b[39m\n\u001b[32m     36\u001b[39m \u001b[38;5;28;01mwhile\u001b[39;00m clock.time() < deadline:\n\u001b[32m     37\u001b[39m     \u001b[38;5;28;01mtry\u001b[39;00m:\n\u001b[32m---> \u001b[39m\u001b[32m38\u001b[39m         \u001b[38;5;28;01mreturn\u001b[39;00m \u001b[43mfunc\u001b[49m\u001b[43m(\u001b[49m\u001b[43m*\u001b[49m\u001b[43margs\u001b[49m\u001b[43m,\u001b[49m\u001b[43m \u001b[49m\u001b[43m*\u001b[49m\u001b[43m*\u001b[49m\u001b[43mkwargs\u001b[49m\u001b[43m)\u001b[49m\n\u001b[32m     39\u001b[39m     \u001b[38;5;28;01mexcept\u001b[39;00m \u001b[38;5;167;01mException\u001b[39;00m \u001b[38;5;28;01mas\u001b[39;00m err:\n\u001b[32m     40\u001b[39m         last_err = err\n",
            "\u001b[36mFile \u001b[39m\u001b[32m~/Repos/market_intelligence_app/.venv/lib/python3.12/site-packages/databricks/sdk/_base_client.py:286\u001b[39m, in \u001b[36m_BaseClient._perform\u001b[39m\u001b[34m(self, method, url, query, headers, body, raw, files, data, auth)\u001b[39m\n\u001b[32m    274\u001b[39m \u001b[38;5;28;01mdef\u001b[39;00m\u001b[38;5;250m \u001b[39m\u001b[34m_perform\u001b[39m(\n\u001b[32m    275\u001b[39m     \u001b[38;5;28mself\u001b[39m,\n\u001b[32m    276\u001b[39m     method: \u001b[38;5;28mstr\u001b[39m,\n\u001b[32m   (...)\u001b[39m\u001b[32m    284\u001b[39m     auth: Callable[[requests.PreparedRequest], requests.PreparedRequest] = \u001b[38;5;28;01mNone\u001b[39;00m,\n\u001b[32m    285\u001b[39m ):\n\u001b[32m--> \u001b[39m\u001b[32m286\u001b[39m     response = \u001b[38;5;28;43mself\u001b[39;49m\u001b[43m.\u001b[49m\u001b[43m_session\u001b[49m\u001b[43m.\u001b[49m\u001b[43mrequest\u001b[49m\u001b[43m(\u001b[49m\n\u001b[32m    287\u001b[39m \u001b[43m        \u001b[49m\u001b[43mmethod\u001b[49m\u001b[43m,\u001b[49m\n\u001b[32m    288\u001b[39m \u001b[43m        \u001b[49m\u001b[43murl\u001b[49m\u001b[43m,\u001b[49m\n\u001b[32m    289\u001b[39m \u001b[43m        \u001b[49m\u001b[43mparams\u001b[49m\u001b[43m=\u001b[49m\u001b[38;5;28;43mself\u001b[39;49m\u001b[43m.\u001b[49m\u001b[43m_fix_query_string\u001b[49m\u001b[43m(\u001b[49m\u001b[43mquery\u001b[49m\u001b[43m)\u001b[49m\u001b[43m,\u001b[49m\n\u001b[32m    290\u001b[39m \u001b[43m        \u001b[49m\u001b[43mjson\u001b[49m\u001b[43m=\u001b[49m\u001b[43mbody\u001b[49m\u001b[43m,\u001b[49m\n\u001b[32m    291\u001b[39m \u001b[43m        \u001b[49m\u001b[43mheaders\u001b[49m\u001b[43m=\u001b[49m\u001b[43mheaders\u001b[49m\u001b[43m,\u001b[49m\n\u001b[32m    292\u001b[39m \u001b[43m        \u001b[49m\u001b[43mfiles\u001b[49m\u001b[43m=\u001b[49m\u001b[43mfiles\u001b[49m\u001b[43m,\u001b[49m\n\u001b[32m    293\u001b[39m \u001b[43m        \u001b[49m\u001b[43mdata\u001b[49m\u001b[43m=\u001b[49m\u001b[43mdata\u001b[49m\u001b[43m,\u001b[49m\n\u001b[32m    294\u001b[39m \u001b[43m        \u001b[49m\u001b[43mauth\u001b[49m\u001b[43m=\u001b[49m\u001b[43mauth\u001b[49m\u001b[43m,\u001b[49m\n\u001b[32m    295\u001b[39m \u001b[43m        \u001b[49m\u001b[43mstream\u001b[49m\u001b[43m=\u001b[49m\u001b[43mraw\u001b[49m\u001b[43m,\u001b[49m\n\u001b[32m    296\u001b[39m \u001b[43m        \u001b[49m\u001b[43mtimeout\u001b[49m\u001b[43m=\u001b[49m\u001b[38;5;28;43mself\u001b[39;49m\u001b[43m.\u001b[49m\u001b[43m_http_timeout_seconds\u001b[49m\u001b[43m,\u001b[49m\n\u001b[32m    297\u001b[39m \u001b[43m    \u001b[49m\u001b[43m)\u001b[49m\n\u001b[32m    298\u001b[39m     \u001b[38;5;28mself\u001b[39m._record_request_log(response, raw=raw \u001b[38;5;129;01mor\u001b[39;00m data \u001b[38;5;129;01mis\u001b[39;00m \u001b[38;5;129;01mnot\u001b[39;00m \u001b[38;5;28;01mNone\u001b[39;00m \u001b[38;5;129;01mor\u001b[39;00m files \u001b[38;5;129;01mis\u001b[39;00m \u001b[38;5;129;01mnot\u001b[39;00m \u001b[38;5;28;01mNone\u001b[39;00m)\n\u001b[32m    299\u001b[39m     error = \u001b[38;5;28mself\u001b[39m._error_parser.get_api_error(response)\n",
            "\u001b[36mFile \u001b[39m\u001b[32m~/Repos/market_intelligence_app/.venv/lib/python3.12/site-packages/requests/sessions.py:589\u001b[39m, in \u001b[36mSession.request\u001b[39m\u001b[34m(self, method, url, params, data, headers, cookies, files, auth, timeout, allow_redirects, proxies, hooks, stream, verify, cert, json)\u001b[39m\n\u001b[32m    584\u001b[39m send_kwargs = {\n\u001b[32m    585\u001b[39m     \u001b[33m\"\u001b[39m\u001b[33mtimeout\u001b[39m\u001b[33m\"\u001b[39m: timeout,\n\u001b[32m    586\u001b[39m     \u001b[33m\"\u001b[39m\u001b[33mallow_redirects\u001b[39m\u001b[33m\"\u001b[39m: allow_redirects,\n\u001b[32m    587\u001b[39m }\n\u001b[32m    588\u001b[39m send_kwargs.update(settings)\n\u001b[32m--> \u001b[39m\u001b[32m589\u001b[39m resp = \u001b[38;5;28;43mself\u001b[39;49m\u001b[43m.\u001b[49m\u001b[43msend\u001b[49m\u001b[43m(\u001b[49m\u001b[43mprep\u001b[49m\u001b[43m,\u001b[49m\u001b[43m \u001b[49m\u001b[43m*\u001b[49m\u001b[43m*\u001b[49m\u001b[43msend_kwargs\u001b[49m\u001b[43m)\u001b[49m\n\u001b[32m    591\u001b[39m \u001b[38;5;28;01mreturn\u001b[39;00m resp\n",
            "\u001b[36mFile \u001b[39m\u001b[32m~/Repos/market_intelligence_app/.venv/lib/python3.12/site-packages/requests/sessions.py:703\u001b[39m, in \u001b[36mSession.send\u001b[39m\u001b[34m(self, request, **kwargs)\u001b[39m\n\u001b[32m    700\u001b[39m start = preferred_clock()\n\u001b[32m    702\u001b[39m \u001b[38;5;66;03m# Send the request\u001b[39;00m\n\u001b[32m--> \u001b[39m\u001b[32m703\u001b[39m r = \u001b[43madapter\u001b[49m\u001b[43m.\u001b[49m\u001b[43msend\u001b[49m\u001b[43m(\u001b[49m\u001b[43mrequest\u001b[49m\u001b[43m,\u001b[49m\u001b[43m \u001b[49m\u001b[43m*\u001b[49m\u001b[43m*\u001b[49m\u001b[43mkwargs\u001b[49m\u001b[43m)\u001b[49m\n\u001b[32m    705\u001b[39m \u001b[38;5;66;03m# Total elapsed time of the request (approximately)\u001b[39;00m\n\u001b[32m    706\u001b[39m elapsed = preferred_clock() - start\n",
            "\u001b[36mFile \u001b[39m\u001b[32m~/Repos/market_intelligence_app/.venv/lib/python3.12/site-packages/requests/adapters.py:644\u001b[39m, in \u001b[36mHTTPAdapter.send\u001b[39m\u001b[34m(self, request, stream, timeout, verify, cert, proxies)\u001b[39m\n\u001b[32m    641\u001b[39m     timeout = TimeoutSauce(connect=timeout, read=timeout)\n\u001b[32m    643\u001b[39m \u001b[38;5;28;01mtry\u001b[39;00m:\n\u001b[32m--> \u001b[39m\u001b[32m644\u001b[39m     resp = \u001b[43mconn\u001b[49m\u001b[43m.\u001b[49m\u001b[43murlopen\u001b[49m\u001b[43m(\u001b[49m\n\u001b[32m    645\u001b[39m \u001b[43m        \u001b[49m\u001b[43mmethod\u001b[49m\u001b[43m=\u001b[49m\u001b[43mrequest\u001b[49m\u001b[43m.\u001b[49m\u001b[43mmethod\u001b[49m\u001b[43m,\u001b[49m\n\u001b[32m    646\u001b[39m \u001b[43m        \u001b[49m\u001b[43murl\u001b[49m\u001b[43m=\u001b[49m\u001b[43murl\u001b[49m\u001b[43m,\u001b[49m\n\u001b[32m    647\u001b[39m \u001b[43m        \u001b[49m\u001b[43mbody\u001b[49m\u001b[43m=\u001b[49m\u001b[43mrequest\u001b[49m\u001b[43m.\u001b[49m\u001b[43mbody\u001b[49m\u001b[43m,\u001b[49m\n\u001b[32m    648\u001b[39m \u001b[43m        \u001b[49m\u001b[43mheaders\u001b[49m\u001b[43m=\u001b[49m\u001b[43mrequest\u001b[49m\u001b[43m.\u001b[49m\u001b[43mheaders\u001b[49m\u001b[43m,\u001b[49m\n\u001b[32m    649\u001b[39m \u001b[43m        \u001b[49m\u001b[43mredirect\u001b[49m\u001b[43m=\u001b[49m\u001b[38;5;28;43;01mFalse\u001b[39;49;00m\u001b[43m,\u001b[49m\n\u001b[32m    650\u001b[39m \u001b[43m        \u001b[49m\u001b[43massert_same_host\u001b[49m\u001b[43m=\u001b[49m\u001b[38;5;28;43;01mFalse\u001b[39;49;00m\u001b[43m,\u001b[49m\n\u001b[32m    651\u001b[39m \u001b[43m        \u001b[49m\u001b[43mpreload_content\u001b[49m\u001b[43m=\u001b[49m\u001b[38;5;28;43;01mFalse\u001b[39;49;00m\u001b[43m,\u001b[49m\n\u001b[32m    652\u001b[39m \u001b[43m        \u001b[49m\u001b[43mdecode_content\u001b[49m\u001b[43m=\u001b[49m\u001b[38;5;28;43;01mFalse\u001b[39;49;00m\u001b[43m,\u001b[49m\n\u001b[32m    653\u001b[39m \u001b[43m        \u001b[49m\u001b[43mretries\u001b[49m\u001b[43m=\u001b[49m\u001b[38;5;28;43mself\u001b[39;49m\u001b[43m.\u001b[49m\u001b[43mmax_retries\u001b[49m\u001b[43m,\u001b[49m\n\u001b[32m    654\u001b[39m \u001b[43m        \u001b[49m\u001b[43mtimeout\u001b[49m\u001b[43m=\u001b[49m\u001b[43mtimeout\u001b[49m\u001b[43m,\u001b[49m\n\u001b[32m    655\u001b[39m \u001b[43m        \u001b[49m\u001b[43mchunked\u001b[49m\u001b[43m=\u001b[49m\u001b[43mchunked\u001b[49m\u001b[43m,\u001b[49m\n\u001b[32m    656\u001b[39m \u001b[43m    \u001b[49m\u001b[43m)\u001b[49m\n\u001b[32m    658\u001b[39m \u001b[38;5;28;01mexcept\u001b[39;00m (ProtocolError, \u001b[38;5;167;01mOSError\u001b[39;00m) \u001b[38;5;28;01mas\u001b[39;00m err:\n\u001b[32m    659\u001b[39m     \u001b[38;5;28;01mraise\u001b[39;00m \u001b[38;5;167;01mConnectionError\u001b[39;00m(err, request=request)\n",
            "\u001b[36mFile \u001b[39m\u001b[32m~/Repos/market_intelligence_app/.venv/lib/python3.12/site-packages/urllib3/connectionpool.py:787\u001b[39m, in \u001b[36mHTTPConnectionPool.urlopen\u001b[39m\u001b[34m(self, method, url, body, headers, retries, redirect, assert_same_host, timeout, pool_timeout, release_conn, chunked, body_pos, preload_content, decode_content, **response_kw)\u001b[39m\n\u001b[32m    784\u001b[39m response_conn = conn \u001b[38;5;28;01mif\u001b[39;00m \u001b[38;5;129;01mnot\u001b[39;00m release_conn \u001b[38;5;28;01melse\u001b[39;00m \u001b[38;5;28;01mNone\u001b[39;00m\n\u001b[32m    786\u001b[39m \u001b[38;5;66;03m# Make the request on the HTTPConnection object\u001b[39;00m\n\u001b[32m--> \u001b[39m\u001b[32m787\u001b[39m response = \u001b[38;5;28;43mself\u001b[39;49m\u001b[43m.\u001b[49m\u001b[43m_make_request\u001b[49m\u001b[43m(\u001b[49m\n\u001b[32m    788\u001b[39m \u001b[43m    \u001b[49m\u001b[43mconn\u001b[49m\u001b[43m,\u001b[49m\n\u001b[32m    789\u001b[39m \u001b[43m    \u001b[49m\u001b[43mmethod\u001b[49m\u001b[43m,\u001b[49m\n\u001b[32m    790\u001b[39m \u001b[43m    \u001b[49m\u001b[43murl\u001b[49m\u001b[43m,\u001b[49m\n\u001b[32m    791\u001b[39m \u001b[43m    \u001b[49m\u001b[43mtimeout\u001b[49m\u001b[43m=\u001b[49m\u001b[43mtimeout_obj\u001b[49m\u001b[43m,\u001b[49m\n\u001b[32m    792\u001b[39m \u001b[43m    \u001b[49m\u001b[43mbody\u001b[49m\u001b[43m=\u001b[49m\u001b[43mbody\u001b[49m\u001b[43m,\u001b[49m\n\u001b[32m    793\u001b[39m \u001b[43m    \u001b[49m\u001b[43mheaders\u001b[49m\u001b[43m=\u001b[49m\u001b[43mheaders\u001b[49m\u001b[43m,\u001b[49m\n\u001b[32m    794\u001b[39m \u001b[43m    \u001b[49m\u001b[43mchunked\u001b[49m\u001b[43m=\u001b[49m\u001b[43mchunked\u001b[49m\u001b[43m,\u001b[49m\n\u001b[32m    795\u001b[39m \u001b[43m    \u001b[49m\u001b[43mretries\u001b[49m\u001b[43m=\u001b[49m\u001b[43mretries\u001b[49m\u001b[43m,\u001b[49m\n\u001b[32m    796\u001b[39m \u001b[43m    \u001b[49m\u001b[43mresponse_conn\u001b[49m\u001b[43m=\u001b[49m\u001b[43mresponse_conn\u001b[49m\u001b[43m,\u001b[49m\n\u001b[32m    797\u001b[39m \u001b[43m    \u001b[49m\u001b[43mpreload_content\u001b[49m\u001b[43m=\u001b[49m\u001b[43mpreload_content\u001b[49m\u001b[43m,\u001b[49m\n\u001b[32m    798\u001b[39m \u001b[43m    \u001b[49m\u001b[43mdecode_content\u001b[49m\u001b[43m=\u001b[49m\u001b[43mdecode_content\u001b[49m\u001b[43m,\u001b[49m\n\u001b[32m    799\u001b[39m \u001b[43m    \u001b[49m\u001b[43m*\u001b[49m\u001b[43m*\u001b[49m\u001b[43mresponse_kw\u001b[49m\u001b[43m,\u001b[49m\n\u001b[32m    800\u001b[39m \u001b[43m\u001b[49m\u001b[43m)\u001b[49m\n\u001b[32m    802\u001b[39m \u001b[38;5;66;03m# Everything went great!\u001b[39;00m\n\u001b[32m    803\u001b[39m clean_exit = \u001b[38;5;28;01mTrue\u001b[39;00m\n",
            "\u001b[36mFile \u001b[39m\u001b[32m~/Repos/market_intelligence_app/.venv/lib/python3.12/site-packages/urllib3/connectionpool.py:534\u001b[39m, in \u001b[36mHTTPConnectionPool._make_request\u001b[39m\u001b[34m(self, conn, method, url, body, headers, retries, timeout, chunked, response_conn, preload_content, decode_content, enforce_content_length)\u001b[39m\n\u001b[32m    532\u001b[39m \u001b[38;5;66;03m# Receive the response from the server\u001b[39;00m\n\u001b[32m    533\u001b[39m \u001b[38;5;28;01mtry\u001b[39;00m:\n\u001b[32m--> \u001b[39m\u001b[32m534\u001b[39m     response = \u001b[43mconn\u001b[49m\u001b[43m.\u001b[49m\u001b[43mgetresponse\u001b[49m\u001b[43m(\u001b[49m\u001b[43m)\u001b[49m\n\u001b[32m    535\u001b[39m \u001b[38;5;28;01mexcept\u001b[39;00m (BaseSSLError, \u001b[38;5;167;01mOSError\u001b[39;00m) \u001b[38;5;28;01mas\u001b[39;00m e:\n\u001b[32m    536\u001b[39m     \u001b[38;5;28mself\u001b[39m._raise_timeout(err=e, url=url, timeout_value=read_timeout)\n",
            "\u001b[36mFile \u001b[39m\u001b[32m~/Repos/market_intelligence_app/.venv/lib/python3.12/site-packages/urllib3/connection.py:565\u001b[39m, in \u001b[36mHTTPConnection.getresponse\u001b[39m\u001b[34m(self)\u001b[39m\n\u001b[32m    562\u001b[39m _shutdown = \u001b[38;5;28mgetattr\u001b[39m(\u001b[38;5;28mself\u001b[39m.sock, \u001b[33m\"\u001b[39m\u001b[33mshutdown\u001b[39m\u001b[33m\"\u001b[39m, \u001b[38;5;28;01mNone\u001b[39;00m)\n\u001b[32m    564\u001b[39m \u001b[38;5;66;03m# Get the response from http.client.HTTPConnection\u001b[39;00m\n\u001b[32m--> \u001b[39m\u001b[32m565\u001b[39m httplib_response = \u001b[38;5;28;43msuper\u001b[39;49m\u001b[43m(\u001b[49m\u001b[43m)\u001b[49m\u001b[43m.\u001b[49m\u001b[43mgetresponse\u001b[49m\u001b[43m(\u001b[49m\u001b[43m)\u001b[49m\n\u001b[32m    567\u001b[39m \u001b[38;5;28;01mtry\u001b[39;00m:\n\u001b[32m    568\u001b[39m     assert_header_parsing(httplib_response.msg)\n",
            "\u001b[36mFile \u001b[39m\u001b[32m~/.local/share/uv/python/cpython-3.12.3-macos-aarch64-none/lib/python3.12/http/client.py:1428\u001b[39m, in \u001b[36mHTTPConnection.getresponse\u001b[39m\u001b[34m(self)\u001b[39m\n\u001b[32m   1426\u001b[39m \u001b[38;5;28;01mtry\u001b[39;00m:\n\u001b[32m   1427\u001b[39m     \u001b[38;5;28;01mtry\u001b[39;00m:\n\u001b[32m-> \u001b[39m\u001b[32m1428\u001b[39m         \u001b[43mresponse\u001b[49m\u001b[43m.\u001b[49m\u001b[43mbegin\u001b[49m\u001b[43m(\u001b[49m\u001b[43m)\u001b[49m\n\u001b[32m   1429\u001b[39m     \u001b[38;5;28;01mexcept\u001b[39;00m \u001b[38;5;167;01mConnectionError\u001b[39;00m:\n\u001b[32m   1430\u001b[39m         \u001b[38;5;28mself\u001b[39m.close()\n",
            "\u001b[36mFile \u001b[39m\u001b[32m~/.local/share/uv/python/cpython-3.12.3-macos-aarch64-none/lib/python3.12/http/client.py:331\u001b[39m, in \u001b[36mHTTPResponse.begin\u001b[39m\u001b[34m(self)\u001b[39m\n\u001b[32m    329\u001b[39m \u001b[38;5;66;03m# read until we get a non-100 response\u001b[39;00m\n\u001b[32m    330\u001b[39m \u001b[38;5;28;01mwhile\u001b[39;00m \u001b[38;5;28;01mTrue\u001b[39;00m:\n\u001b[32m--> \u001b[39m\u001b[32m331\u001b[39m     version, status, reason = \u001b[38;5;28;43mself\u001b[39;49m\u001b[43m.\u001b[49m\u001b[43m_read_status\u001b[49m\u001b[43m(\u001b[49m\u001b[43m)\u001b[49m\n\u001b[32m    332\u001b[39m     \u001b[38;5;28;01mif\u001b[39;00m status != CONTINUE:\n\u001b[32m    333\u001b[39m         \u001b[38;5;28;01mbreak\u001b[39;00m\n",
            "\u001b[36mFile \u001b[39m\u001b[32m~/.local/share/uv/python/cpython-3.12.3-macos-aarch64-none/lib/python3.12/http/client.py:292\u001b[39m, in \u001b[36mHTTPResponse._read_status\u001b[39m\u001b[34m(self)\u001b[39m\n\u001b[32m    291\u001b[39m \u001b[38;5;28;01mdef\u001b[39;00m\u001b[38;5;250m \u001b[39m\u001b[34m_read_status\u001b[39m(\u001b[38;5;28mself\u001b[39m):\n\u001b[32m--> \u001b[39m\u001b[32m292\u001b[39m     line = \u001b[38;5;28mstr\u001b[39m(\u001b[38;5;28;43mself\u001b[39;49m\u001b[43m.\u001b[49m\u001b[43mfp\u001b[49m\u001b[43m.\u001b[49m\u001b[43mreadline\u001b[49m\u001b[43m(\u001b[49m\u001b[43m_MAXLINE\u001b[49m\u001b[43m \u001b[49m\u001b[43m+\u001b[49m\u001b[43m \u001b[49m\u001b[32;43m1\u001b[39;49m\u001b[43m)\u001b[49m, \u001b[33m\"\u001b[39m\u001b[33miso-8859-1\u001b[39m\u001b[33m\"\u001b[39m)\n\u001b[32m    293\u001b[39m     \u001b[38;5;28;01mif\u001b[39;00m \u001b[38;5;28mlen\u001b[39m(line) > _MAXLINE:\n\u001b[32m    294\u001b[39m         \u001b[38;5;28;01mraise\u001b[39;00m LineTooLong(\u001b[33m\"\u001b[39m\u001b[33mstatus line\u001b[39m\u001b[33m\"\u001b[39m)\n",
            "\u001b[36mFile \u001b[39m\u001b[32m~/.local/share/uv/python/cpython-3.12.3-macos-aarch64-none/lib/python3.12/socket.py:707\u001b[39m, in \u001b[36mSocketIO.readinto\u001b[39m\u001b[34m(self, b)\u001b[39m\n\u001b[32m    705\u001b[39m \u001b[38;5;28;01mwhile\u001b[39;00m \u001b[38;5;28;01mTrue\u001b[39;00m:\n\u001b[32m    706\u001b[39m     \u001b[38;5;28;01mtry\u001b[39;00m:\n\u001b[32m--> \u001b[39m\u001b[32m707\u001b[39m         \u001b[38;5;28;01mreturn\u001b[39;00m \u001b[38;5;28;43mself\u001b[39;49m\u001b[43m.\u001b[49m\u001b[43m_sock\u001b[49m\u001b[43m.\u001b[49m\u001b[43mrecv_into\u001b[49m\u001b[43m(\u001b[49m\u001b[43mb\u001b[49m\u001b[43m)\u001b[49m\n\u001b[32m    708\u001b[39m     \u001b[38;5;28;01mexcept\u001b[39;00m timeout:\n\u001b[32m    709\u001b[39m         \u001b[38;5;28mself\u001b[39m._timeout_occurred = \u001b[38;5;28;01mTrue\u001b[39;00m\n",
            "\u001b[36mFile \u001b[39m\u001b[32m~/.local/share/uv/python/cpython-3.12.3-macos-aarch64-none/lib/python3.12/ssl.py:1252\u001b[39m, in \u001b[36mSSLSocket.recv_into\u001b[39m\u001b[34m(self, buffer, nbytes, flags)\u001b[39m\n\u001b[32m   1248\u001b[39m     \u001b[38;5;28;01mif\u001b[39;00m flags != \u001b[32m0\u001b[39m:\n\u001b[32m   1249\u001b[39m         \u001b[38;5;28;01mraise\u001b[39;00m \u001b[38;5;167;01mValueError\u001b[39;00m(\n\u001b[32m   1250\u001b[39m           \u001b[33m\"\u001b[39m\u001b[33mnon-zero flags not allowed in calls to recv_into() on \u001b[39m\u001b[38;5;132;01m%s\u001b[39;00m\u001b[33m\"\u001b[39m %\n\u001b[32m   1251\u001b[39m           \u001b[38;5;28mself\u001b[39m.\u001b[34m__class__\u001b[39m)\n\u001b[32m-> \u001b[39m\u001b[32m1252\u001b[39m     \u001b[38;5;28;01mreturn\u001b[39;00m \u001b[38;5;28;43mself\u001b[39;49m\u001b[43m.\u001b[49m\u001b[43mread\u001b[49m\u001b[43m(\u001b[49m\u001b[43mnbytes\u001b[49m\u001b[43m,\u001b[49m\u001b[43m \u001b[49m\u001b[43mbuffer\u001b[49m\u001b[43m)\u001b[49m\n\u001b[32m   1253\u001b[39m \u001b[38;5;28;01melse\u001b[39;00m:\n\u001b[32m   1254\u001b[39m     \u001b[38;5;28;01mreturn\u001b[39;00m \u001b[38;5;28msuper\u001b[39m().recv_into(buffer, nbytes, flags)\n",
            "\u001b[36mFile \u001b[39m\u001b[32m~/.local/share/uv/python/cpython-3.12.3-macos-aarch64-none/lib/python3.12/ssl.py:1104\u001b[39m, in \u001b[36mSSLSocket.read\u001b[39m\u001b[34m(self, len, buffer)\u001b[39m\n\u001b[32m   1102\u001b[39m \u001b[38;5;28;01mtry\u001b[39;00m:\n\u001b[32m   1103\u001b[39m     \u001b[38;5;28;01mif\u001b[39;00m buffer \u001b[38;5;129;01mis\u001b[39;00m \u001b[38;5;129;01mnot\u001b[39;00m \u001b[38;5;28;01mNone\u001b[39;00m:\n\u001b[32m-> \u001b[39m\u001b[32m1104\u001b[39m         \u001b[38;5;28;01mreturn\u001b[39;00m \u001b[38;5;28;43mself\u001b[39;49m\u001b[43m.\u001b[49m\u001b[43m_sslobj\u001b[49m\u001b[43m.\u001b[49m\u001b[43mread\u001b[49m\u001b[43m(\u001b[49m\u001b[38;5;28;43mlen\u001b[39;49m\u001b[43m,\u001b[49m\u001b[43m \u001b[49m\u001b[43mbuffer\u001b[49m\u001b[43m)\u001b[49m\n\u001b[32m   1105\u001b[39m     \u001b[38;5;28;01melse\u001b[39;00m:\n\u001b[32m   1106\u001b[39m         \u001b[38;5;28;01mreturn\u001b[39;00m \u001b[38;5;28mself\u001b[39m._sslobj.read(\u001b[38;5;28mlen\u001b[39m)\n",
            "\u001b[31mKeyboardInterrupt\u001b[39m: "
          ]
        }
      ],
      "source": [
        "## 4. Test Endpoint Call\n",
        "test_question = \"Summarize the Trade execution patterns and suspicious activity rates in the past 24 hours\"\n",
        "\n",
        "try:\n",
        "    print(f\"Sending question: {test_question}\")\n",
        "    print(\"\\nCalling endpoint...\")\n",
        "    \n",
        "    # The call_endpoint function now handles the host configuration internally\n",
        "    response = call_endpoint(\n",
        "        databricks_config,\n",
        "        test_question\n",
        "    )\n",
        "    \n",
        "    print(\"\\n✅ Response received!\")\n",
        "    print(\"\\nRaw response:\")\n",
        "    print(response)\n",
        "    \n",
        "    # Format the response\n",
        "    formatted_answer = format_response(response)\n",
        "    print(\"\\nFormatted answer:\")\n",
        "    print(formatted_answer)\n",
        "    \n",
        "except Exception as e:\n",
        "    print(f\"\\n❌ Error calling endpoint: {e}\")\n",
        "    print(\"\\nThis could be due to:\")\n",
        "    print(\"  - Endpoint not running\")\n",
        "    print(\"  - Incorrect endpoint name in config.yaml\")\n",
        "    print(\"  - Network connectivity issues\")\n",
        "    print(\"  - Authentication problems\")\n"
      ]
    },
    {
      "cell_type": "code",
      "execution_count": null,
      "metadata": {},
      "outputs": [
        {
          "name": "stdout",
          "output_type": "stream",
          "text": [
            "⚠️ Database is not configured\n",
            "Configure database credentials in .env to test database operations\n"
          ]
        }
      ],
      "source": [
        "## 5. Test Database Operations\n",
        "# Check if database is configured\n",
        "db_configured = bool(database_config.host and database_config.user)\n",
        "\n",
        "if db_configured:\n",
        "    print(\"✅ Database is configured\")\n",
        "    print(\"\\nInitializing database schema...\")\n",
        "    \n",
        "    try:\n",
        "        init_database(database_config)\n",
        "        print(\"✅ Database schema initialized successfully\")\n",
        "    except Exception as e:\n",
        "        print(f\"❌ Error initializing database: {e}\")\n",
        "        db_configured = False\n",
        "else:\n",
        "    print(\"⚠️ Database is not configured\")\n",
        "    print(\"Configure database credentials in .env to test database operations\")\n"
      ]
    },
    {
      "cell_type": "code",
      "execution_count": null,
      "metadata": {},
      "outputs": [
        {
          "name": "stdout",
          "output_type": "stream",
          "text": [
            "⚠️ Skipping database tests - database not configured\n"
          ]
        }
      ],
      "source": [
        "# Test conversation creation and message storage\n",
        "if db_configured:\n",
        "    try:\n",
        "        # Create a test conversation\n",
        "        test_user_id = \"test_user@example.com\"\n",
        "        conversation_id = create_conversation(database_config, test_user_id)\n",
        "        print(f\"✅ Created conversation with ID: {conversation_id}\")\n",
        "        \n",
        "        # Add a test message\n",
        "        message_id = add_message(\n",
        "            database_config,\n",
        "            conversation_id=conversation_id,\n",
        "            user_id=test_user_id,\n",
        "            question=\"What is the market outlook for 2024?\",\n",
        "            answer=\"The market shows positive indicators...\",\n",
        "            status=\"complete\"\n",
        "        )\n",
        "        print(f\"✅ Added message with ID: {message_id}\")\n",
        "        \n",
        "        # Retrieve messages\n",
        "        messages = get_conversation_messages(database_config, conversation_id)\n",
        "        print(f\"\\n✅ Retrieved {len(messages)} message(s)\")\n",
        "        \n",
        "        for msg in messages:\n",
        "            print(f\"\\nMessage ID: {msg['id']}\")\n",
        "            print(f\"  Question: {msg['question']}\")\n",
        "            print(f\"  Answer: {msg['answer']}\")\n",
        "            print(f\"  Status: {msg['status']}\")\n",
        "            print(f\"  Created: {msg['created_at']}\")\n",
        "        \n",
        "        # Get user conversations\n",
        "        conversations = get_user_conversations(database_config, test_user_id)\n",
        "        print(f\"\\n✅ User has {len(conversations)} conversation(s)\")\n",
        "        \n",
        "    except Exception as e:\n",
        "        print(f\"❌ Error testing database operations: {e}\")\n",
        "else:\n",
        "    print(\"⚠️ Skipping database tests - database not configured\")\n"
      ]
    },
    {
      "cell_type": "markdown",
      "metadata": {},
      "source": [
        "## 6. Test Response Formatting\n"
      ]
    },
    {
      "cell_type": "code",
      "execution_count": null,
      "metadata": {},
      "outputs": [
        {
          "name": "stdout",
          "output_type": "stream",
          "text": [
            "Testing response formatting:\n",
            "============================================================\n",
            "\n",
            "Predictions format:\n",
            "  Input: {'predictions': 'This is a test prediction response'}\n",
            "  Output: This is a test prediction response\n",
            "\n",
            "OpenAI format:\n",
            "  Input: {'choices': [{'message': {'content': 'This is an OpenAI-style response'}}]}\n",
            "  Output: This is an OpenAI-style response\n",
            "\n",
            "Answer format:\n",
            "  Input: {'answer': 'This is a simple answer response'}\n",
            "  Output: This is a simple answer response\n",
            "\n",
            "Custom format:\n",
            "  Input: {'custom_field': 'Custom response', 'metadata': {'score': 0.95}}\n",
            "  Output: {\n",
            "  \"custom_field\": \"Custom response\",\n",
            "  \"metadata\": {\n",
            "    \"score\": 0.95\n",
            "  }\n",
            "}\n"
          ]
        }
      ],
      "source": [
        "# Test different response formats\n",
        "test_responses = [\n",
        "    {\n",
        "        \"name\": \"Predictions format\",\n",
        "        \"response\": {\"predictions\": \"This is a test prediction response\"}\n",
        "    },\n",
        "    {\n",
        "        \"name\": \"OpenAI format\",\n",
        "        \"response\": {\n",
        "            \"choices\": [\n",
        "                {\"message\": {\"content\": \"This is an OpenAI-style response\"}}\n",
        "            ]\n",
        "        }\n",
        "    },\n",
        "    {\n",
        "        \"name\": \"Answer format\",\n",
        "        \"response\": {\"answer\": \"This is a simple answer response\"}\n",
        "    },\n",
        "    {\n",
        "        \"name\": \"Custom format\",\n",
        "        \"response\": {\"custom_field\": \"Custom response\", \"metadata\": {\"score\": 0.95}}\n",
        "    }\n",
        "]\n",
        "\n",
        "print(\"Testing response formatting:\")\n",
        "print(\"=\" * 60)\n",
        "\n",
        "for test in test_responses:\n",
        "    formatted = format_response(test[\"response\"])\n",
        "    print(f\"\\n{test['name']}:\")\n",
        "    print(f\"  Input: {test['response']}\")\n",
        "    print(f\"  Output: {formatted}\")\n"
      ]
    },
    {
      "cell_type": "markdown",
      "metadata": {},
      "source": [
        "## 7. End-to-End Test\n",
        "\n",
        "Test the complete flow: ask a question, get a response, and save to database.\n"
      ]
    },
    {
      "cell_type": "code",
      "execution_count": null,
      "metadata": {},
      "outputs": [
        {
          "name": "stdout",
          "output_type": "stream",
          "text": [
            "⚠️ Skipping end-to-end test - requires database configuration\n"
          ]
        }
      ],
      "source": [
        "# Complete workflow test\n",
        "if db_configured:\n",
        "    try:\n",
        "        print(\"Starting end-to-end test...\\n\")\n",
        "        \n",
        "        # 1. Create a new conversation\n",
        "        user_id = user_info['user_id']\n",
        "        conv_id = create_conversation(database_config, user_id)\n",
        "        print(f\"1. ✅ Created conversation: {conv_id}\")\n",
        "        \n",
        "        # 2. Ask a question\n",
        "        question = \"What are the main regulatory priorities for 2024?\"\n",
        "        print(f\"2. 📝 Question: {question}\")\n",
        "        \n",
        "        # 3. Call the endpoint\n",
        "        print(\"3. 🔄 Calling Databricks endpoint...\")\n",
        "        response = call_endpoint(client, databricks_config, question)\n",
        "        answer = format_response(response)\n",
        "        print(f\"   ✅ Got response\")\n",
        "        \n",
        "        # 4. Save to database\n",
        "        msg_id = add_message(\n",
        "            database_config,\n",
        "            conversation_id=conv_id,\n",
        "            user_id=user_id,\n",
        "            question=question,\n",
        "            answer=answer,\n",
        "            status=\"complete\"\n",
        "        )\n",
        "        print(f\"4. ✅ Saved message: {msg_id}\")\n",
        "        \n",
        "        # 5. Retrieve and display\n",
        "        messages = get_conversation_messages(database_config, conv_id)\n",
        "        print(f\"5. ✅ Retrieved conversation history\")\n",
        "        \n",
        "        print(\"\\n\" + \"=\" * 60)\n",
        "        print(\"CONVERSATION SUMMARY\")\n",
        "        print(\"=\" * 60)\n",
        "        for msg in messages:\n",
        "            print(f\"\\n🤔 Question: {msg['question']}\")\n",
        "            print(f\"\\n💡 Answer: {msg['answer']}\")\n",
        "            print(f\"\\n📊 Status: {msg['status']}\")\n",
        "            print(f\"⏰ Time: {msg['created_at']}\")\n",
        "        \n",
        "        print(\"\\n\" + \"=\" * 60)\n",
        "        print(\"✅ END-TO-END TEST SUCCESSFUL!\")\n",
        "        print(\"=\" * 60)\n",
        "        \n",
        "    except Exception as e:\n",
        "        print(f\"\\n❌ End-to-end test failed: {e}\")\n",
        "        import traceback\n",
        "        traceback.print_exc()\n",
        "else:\n",
        "    print(\"⚠️ Skipping end-to-end test - requires database configuration\")\n"
      ]
    },
    {
      "cell_type": "markdown",
      "metadata": {},
      "source": [
        "## 8. Summary and Next Steps\n"
      ]
    },
    {
      "cell_type": "code",
      "execution_count": null,
      "metadata": {},
      "outputs": [
        {
          "name": "stdout",
          "output_type": "stream",
          "text": [
            "Component Testing Summary\n",
            "============================================================\n",
            "\n",
            "✅ Completed Tests:\n",
            "   - Configuration loading\n",
            "   - OSC branding setup\n",
            "   - Databricks authentication\n",
            "   - User information retrieval\n",
            "   - Endpoint calling\n",
            "   - Response formatting\n",
            "   ⚠️  Database tests skipped (not configured)\n",
            "\n",
            "📚 Next Steps:\n",
            "   1. Run the Streamlit app: uv run streamlit run app.py\n",
            "   2. Test the full UI with real questions\n",
            "   3. Configure database for conversation history (if not done)\n",
            "   4. Deploy to Databricks Apps for production use\n",
            "\n",
            "============================================================\n"
          ]
        }
      ],
      "source": [
        "print(\"Component Testing Summary\")\n",
        "print(\"=\" * 60)\n",
        "print(\"\\n✅ Completed Tests:\")\n",
        "print(\"   - Configuration loading\")\n",
        "print(\"   - OSC branding setup\")\n",
        "print(\"   - Databricks authentication\")\n",
        "print(\"   - User information retrieval\")\n",
        "print(\"   - Endpoint calling\")\n",
        "print(\"   - Response formatting\")\n",
        "if db_configured:\n",
        "    print(\"   - Database operations\")\n",
        "    print(\"   - Conversation management\")\n",
        "    print(\"   - Message storage and retrieval\")\n",
        "    print(\"   - End-to-end workflow\")\n",
        "else:\n",
        "    print(\"   ⚠️  Database tests skipped (not configured)\")\n",
        "\n",
        "print(\"\\n📚 Next Steps:\")\n",
        "print(\"   1. Run the Streamlit app: uv run streamlit run app.py\")\n",
        "print(\"   2. Test the full UI with real questions\")\n",
        "print(\"   3. Configure database for conversation history (if not done)\")\n",
        "print(\"   4. Deploy to Databricks Apps for production use\")\n",
        "print(\"\\n\" + \"=\" * 60)\n"
      ]
    },
    {
      "cell_type": "markdown",
      "metadata": {},
      "source": [
        "---\n",
        "\n",
        "## Additional Testing\n",
        "\n",
        "Use the cells below for ad-hoc testing and experimentation.\n"
      ]
    },
    {
      "cell_type": "code",
      "execution_count": null,
      "metadata": {},
      "outputs": [],
      "source": [
        "# Scratch cell for custom testing\n"
      ]
    }
  ],
  "metadata": {
    "kernelspec": {
      "display_name": ".venv",
      "language": "python",
      "name": "python3"
    },
    "language_info": {
      "codemirror_mode": {
        "name": "ipython",
        "version": 3
      },
      "file_extension": ".py",
      "mimetype": "text/x-python",
      "name": "python",
      "nbconvert_exporter": "python",
      "pygments_lexer": "ipython3",
      "version": "3.12.3"
    }
  },
  "nbformat": 4,
  "nbformat_minor": 2
}
