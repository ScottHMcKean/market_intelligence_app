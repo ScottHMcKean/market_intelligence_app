{
  "cells": [
    {
      "cell_type": "markdown",
      "metadata": {},
      "source": [
        "# OSC Market Intelligence App - Component Testing\n",
        "\n",
        "This notebook provides interactive testing of the main components of the Market Intelligence application.\n"
      ]
    },
    {
      "cell_type": "markdown",
      "metadata": {},
      "source": [
        "## 1. Setup and Imports\n"
      ]
    },
    {
      "cell_type": "code",
      "execution_count": null,
      "metadata": {},
      "outputs": [],
      "source": [
        "# Import required modules\n",
        "import sys\n",
        "from pathlib import Path\n",
        "\n",
        "# Ensure src is in the path\n",
        "project_root = Path.cwd()\n",
        "sys.path.insert(0, str(project_root))\n",
        "\n",
        "from src.config import DatabricksConfig, DatabaseConfig, OSC_COLORS, OSC_FONTS\n",
        "from src.databricks_client import (\n",
        "    get_workspace_client,\n",
        "    call_endpoint,\n",
        "    get_user_info,\n",
        "    format_response,\n",
        ")\n",
        "from src.database import (\n",
        "    init_database,\n",
        "    create_conversation,\n",
        "    add_message,\n",
        "    update_message,\n",
        "    get_conversation_messages,\n",
        "    get_user_conversations,\n",
        ")\n",
        "\n",
        "print(\"✅ All imports successful!\")\n"
      ]
    },
    {
      "cell_type": "markdown",
      "metadata": {},
      "source": [
        "## 2. Test Configuration\n"
      ]
    },
    {
      "cell_type": "code",
      "execution_count": null,
      "metadata": {},
      "outputs": [],
      "source": [
        "# Load configurations\n",
        "databricks_config = DatabricksConfig.from_env()\n",
        "database_config = DatabaseConfig.from_env()\n",
        "\n",
        "print(\"Databricks Configuration:\")\n",
        "print(f\"  Host: {databricks_config.host}\")\n",
        "print(f\"  Endpoint: {databricks_config.endpoint_name}\")\n",
        "print()\n",
        "print(\"Database Configuration:\")\n",
        "print(f\"  Host: {database_config.host or 'Not configured'}\")\n",
        "print(f\"  Database: {database_config.name}\")\n",
        "print(f\"  Port: {database_config.port}\")\n"
      ]
    },
    {
      "cell_type": "code",
      "execution_count": null,
      "metadata": {},
      "outputs": [],
      "source": [
        "# Display OSC branding colors\n",
        "print(\"OSC Brand Colors:\")\n",
        "for name, color in OSC_COLORS.items():\n",
        "    print(f\"  {name:15s}: {color}\")\n",
        "\n",
        "print(\"\\nOSC Fonts:\")\n",
        "for name, font in OSC_FONTS.items():\n",
        "    print(f\"  {name:15s}: {font}\")\n"
      ]
    },
    {
      "cell_type": "markdown",
      "metadata": {},
      "source": [
        "## 3. Test Databricks Authentication\n"
      ]
    },
    {
      "cell_type": "code",
      "execution_count": null,
      "metadata": {},
      "outputs": [],
      "source": [
        "# Initialize Databricks client\n",
        "try:\n",
        "    client = get_workspace_client()\n",
        "    print(\"✅ Databricks client initialized successfully\")\n",
        "    \n",
        "    # Get user info\n",
        "    user_info = get_user_info(client)\n",
        "    print(f\"\\nUser Information:\")\n",
        "    print(f\"  User ID: {user_info['user_id']}\")\n",
        "    print(f\"  Display Name: {user_info['display_name']}\")\n",
        "    print(f\"  Active: {user_info['active']}\")\n",
        "except Exception as e:\n",
        "    print(f\"❌ Error initializing Databricks client: {e}\")\n",
        "    print(\"\\nMake sure you have configured your Databricks credentials in .env file\")\n"
      ]
    },
    {
      "cell_type": "markdown",
      "metadata": {},
      "source": [
        "## 4. Test Endpoint Call\n",
        "\n",
        "**Note:** This will make an actual call to your Databricks endpoint. Make sure it's running and accessible.\n"
      ]
    },
    {
      "cell_type": "code",
      "execution_count": null,
      "metadata": {},
      "outputs": [],
      "source": [
        "# Test a simple question\n",
        "test_question = \"What are the key trends in the Canadian securities market?\"\n",
        "\n",
        "try:\n",
        "    print(f\"Sending question: {test_question}\")\n",
        "    print(\"\\nCalling endpoint...\")\n",
        "    \n",
        "    response = call_endpoint(\n",
        "        client,\n",
        "        databricks_config,\n",
        "        test_question\n",
        "    )\n",
        "    \n",
        "    print(\"\\n✅ Response received!\")\n",
        "    print(\"\\nRaw response:\")\n",
        "    print(response)\n",
        "    \n",
        "    # Format the response\n",
        "    formatted_answer = format_response(response)\n",
        "    print(\"\\nFormatted answer:\")\n",
        "    print(formatted_answer)\n",
        "    \n",
        "except Exception as e:\n",
        "    print(f\"\\n❌ Error calling endpoint: {e}\")\n",
        "    print(\"\\nThis could be due to:\")\n",
        "    print(\"  - Endpoint not running\")\n",
        "    print(\"  - Incorrect endpoint name\")\n",
        "    print(\"  - Network connectivity issues\")\n",
        "    print(\"  - Authentication problems\")\n"
      ]
    },
    {
      "cell_type": "markdown",
      "metadata": {},
      "source": [
        "## 5. Test Database Operations\n",
        "\n",
        "**Note:** This requires a configured PostgreSQL/Lakebase database. Skip if not configured.\n"
      ]
    },
    {
      "cell_type": "code",
      "execution_count": null,
      "metadata": {},
      "outputs": [],
      "source": [
        "# Check if database is configured\n",
        "db_configured = bool(database_config.host and database_config.user)\n",
        "\n",
        "if db_configured:\n",
        "    print(\"✅ Database is configured\")\n",
        "    print(\"\\nInitializing database schema...\")\n",
        "    \n",
        "    try:\n",
        "        init_database(database_config)\n",
        "        print(\"✅ Database schema initialized successfully\")\n",
        "    except Exception as e:\n",
        "        print(f\"❌ Error initializing database: {e}\")\n",
        "        db_configured = False\n",
        "else:\n",
        "    print(\"⚠️ Database is not configured\")\n",
        "    print(\"Configure database credentials in .env to test database operations\")\n"
      ]
    },
    {
      "cell_type": "code",
      "execution_count": null,
      "metadata": {},
      "outputs": [],
      "source": [
        "# Test conversation creation and message storage\n",
        "if db_configured:\n",
        "    try:\n",
        "        # Create a test conversation\n",
        "        test_user_id = \"test_user@example.com\"\n",
        "        conversation_id = create_conversation(database_config, test_user_id)\n",
        "        print(f\"✅ Created conversation with ID: {conversation_id}\")\n",
        "        \n",
        "        # Add a test message\n",
        "        message_id = add_message(\n",
        "            database_config,\n",
        "            conversation_id=conversation_id,\n",
        "            user_id=test_user_id,\n",
        "            question=\"What is the market outlook for 2024?\",\n",
        "            answer=\"The market shows positive indicators...\",\n",
        "            status=\"complete\"\n",
        "        )\n",
        "        print(f\"✅ Added message with ID: {message_id}\")\n",
        "        \n",
        "        # Retrieve messages\n",
        "        messages = get_conversation_messages(database_config, conversation_id)\n",
        "        print(f\"\\n✅ Retrieved {len(messages)} message(s)\")\n",
        "        \n",
        "        for msg in messages:\n",
        "            print(f\"\\nMessage ID: {msg['id']}\")\n",
        "            print(f\"  Question: {msg['question']}\")\n",
        "            print(f\"  Answer: {msg['answer']}\")\n",
        "            print(f\"  Status: {msg['status']}\")\n",
        "            print(f\"  Created: {msg['created_at']}\")\n",
        "        \n",
        "        # Get user conversations\n",
        "        conversations = get_user_conversations(database_config, test_user_id)\n",
        "        print(f\"\\n✅ User has {len(conversations)} conversation(s)\")\n",
        "        \n",
        "    except Exception as e:\n",
        "        print(f\"❌ Error testing database operations: {e}\")\n",
        "else:\n",
        "    print(\"⚠️ Skipping database tests - database not configured\")\n"
      ]
    },
    {
      "cell_type": "markdown",
      "metadata": {},
      "source": [
        "## 6. Test Response Formatting\n"
      ]
    },
    {
      "cell_type": "code",
      "execution_count": null,
      "metadata": {},
      "outputs": [],
      "source": [
        "# Test different response formats\n",
        "test_responses = [\n",
        "    {\n",
        "        \"name\": \"Predictions format\",\n",
        "        \"response\": {\"predictions\": \"This is a test prediction response\"}\n",
        "    },\n",
        "    {\n",
        "        \"name\": \"OpenAI format\",\n",
        "        \"response\": {\n",
        "            \"choices\": [\n",
        "                {\"message\": {\"content\": \"This is an OpenAI-style response\"}}\n",
        "            ]\n",
        "        }\n",
        "    },\n",
        "    {\n",
        "        \"name\": \"Answer format\",\n",
        "        \"response\": {\"answer\": \"This is a simple answer response\"}\n",
        "    },\n",
        "    {\n",
        "        \"name\": \"Custom format\",\n",
        "        \"response\": {\"custom_field\": \"Custom response\", \"metadata\": {\"score\": 0.95}}\n",
        "    }\n",
        "]\n",
        "\n",
        "print(\"Testing response formatting:\")\n",
        "print(\"=\" * 60)\n",
        "\n",
        "for test in test_responses:\n",
        "    formatted = format_response(test[\"response\"])\n",
        "    print(f\"\\n{test['name']}:\")\n",
        "    print(f\"  Input: {test['response']}\")\n",
        "    print(f\"  Output: {formatted}\")\n"
      ]
    },
    {
      "cell_type": "markdown",
      "metadata": {},
      "source": [
        "## 7. End-to-End Test\n",
        "\n",
        "Test the complete flow: ask a question, get a response, and save to database.\n"
      ]
    },
    {
      "cell_type": "code",
      "execution_count": null,
      "metadata": {},
      "outputs": [],
      "source": [
        "# Complete workflow test\n",
        "if db_configured:\n",
        "    try:\n",
        "        print(\"Starting end-to-end test...\\n\")\n",
        "        \n",
        "        # 1. Create a new conversation\n",
        "        user_id = user_info['user_id']\n",
        "        conv_id = create_conversation(database_config, user_id)\n",
        "        print(f\"1. ✅ Created conversation: {conv_id}\")\n",
        "        \n",
        "        # 2. Ask a question\n",
        "        question = \"What are the main regulatory priorities for 2024?\"\n",
        "        print(f\"2. 📝 Question: {question}\")\n",
        "        \n",
        "        # 3. Call the endpoint\n",
        "        print(\"3. 🔄 Calling Databricks endpoint...\")\n",
        "        response = call_endpoint(client, databricks_config, question)\n",
        "        answer = format_response(response)\n",
        "        print(f\"   ✅ Got response\")\n",
        "        \n",
        "        # 4. Save to database\n",
        "        msg_id = add_message(\n",
        "            database_config,\n",
        "            conversation_id=conv_id,\n",
        "            user_id=user_id,\n",
        "            question=question,\n",
        "            answer=answer,\n",
        "            status=\"complete\"\n",
        "        )\n",
        "        print(f\"4. ✅ Saved message: {msg_id}\")\n",
        "        \n",
        "        # 5. Retrieve and display\n",
        "        messages = get_conversation_messages(database_config, conv_id)\n",
        "        print(f\"5. ✅ Retrieved conversation history\")\n",
        "        \n",
        "        print(\"\\n\" + \"=\" * 60)\n",
        "        print(\"CONVERSATION SUMMARY\")\n",
        "        print(\"=\" * 60)\n",
        "        for msg in messages:\n",
        "            print(f\"\\n🤔 Question: {msg['question']}\")\n",
        "            print(f\"\\n💡 Answer: {msg['answer']}\")\n",
        "            print(f\"\\n📊 Status: {msg['status']}\")\n",
        "            print(f\"⏰ Time: {msg['created_at']}\")\n",
        "        \n",
        "        print(\"\\n\" + \"=\" * 60)\n",
        "        print(\"✅ END-TO-END TEST SUCCESSFUL!\")\n",
        "        print(\"=\" * 60)\n",
        "        \n",
        "    except Exception as e:\n",
        "        print(f\"\\n❌ End-to-end test failed: {e}\")\n",
        "        import traceback\n",
        "        traceback.print_exc()\n",
        "else:\n",
        "    print(\"⚠️ Skipping end-to-end test - requires database configuration\")\n"
      ]
    },
    {
      "cell_type": "markdown",
      "metadata": {},
      "source": [
        "## 8. Summary and Next Steps\n"
      ]
    },
    {
      "cell_type": "code",
      "execution_count": null,
      "metadata": {},
      "outputs": [],
      "source": [
        "print(\"Component Testing Summary\")\n",
        "print(\"=\" * 60)\n",
        "print(\"\\n✅ Completed Tests:\")\n",
        "print(\"   - Configuration loading\")\n",
        "print(\"   - OSC branding setup\")\n",
        "print(\"   - Databricks authentication\")\n",
        "print(\"   - User information retrieval\")\n",
        "print(\"   - Endpoint calling\")\n",
        "print(\"   - Response formatting\")\n",
        "if db_configured:\n",
        "    print(\"   - Database operations\")\n",
        "    print(\"   - Conversation management\")\n",
        "    print(\"   - Message storage and retrieval\")\n",
        "    print(\"   - End-to-end workflow\")\n",
        "else:\n",
        "    print(\"   ⚠️  Database tests skipped (not configured)\")\n",
        "\n",
        "print(\"\\n📚 Next Steps:\")\n",
        "print(\"   1. Run the Streamlit app: uv run streamlit run app.py\")\n",
        "print(\"   2. Test the full UI with real questions\")\n",
        "print(\"   3. Configure database for conversation history (if not done)\")\n",
        "print(\"   4. Deploy to Databricks Apps for production use\")\n",
        "print(\"\\n\" + \"=\" * 60)\n"
      ]
    },
    {
      "cell_type": "markdown",
      "metadata": {},
      "source": [
        "---\n",
        "\n",
        "## Additional Testing\n",
        "\n",
        "Use the cells below for ad-hoc testing and experimentation.\n"
      ]
    },
    {
      "cell_type": "code",
      "execution_count": null,
      "metadata": {},
      "outputs": [],
      "source": [
        "# Scratch cell for custom testing\n"
      ]
    }
  ],
  "metadata": {
    "language_info": {
      "name": "python"
    }
  },
  "nbformat": 4,
  "nbformat_minor": 2
}
