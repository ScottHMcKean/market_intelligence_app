{
  "cells": [
    {
      "cell_type": "markdown",
      "metadata": {},
      "source": [
        "# OSC Market Intelligence App - Component Testing\n",
        "\n",
        "This notebook provides interactive testing of the main components of the Market Intelligence application, including comprehensive database testing.\n"
      ]
    },
    {
      "cell_type": "markdown",
      "metadata": {},
      "source": [
        "## 1. Setup and Imports\n"
      ]
    },
    {
      "cell_type": "code",
      "execution_count": 1,
      "metadata": {},
      "outputs": [
        {
          "name": "stdout",
          "output_type": "stream",
          "text": [
            "✅ All imports successful!\n"
          ]
        }
      ],
      "source": [
        "# Import required modules\n",
        "import sys\n",
        "from pathlib import Path\n",
        "\n",
        "# Ensure src is in the path\n",
        "project_root = Path.cwd()\n",
        "sys.path.insert(0, str(project_root))\n",
        "\n",
        "from src.config import DatabricksConfig, DatabaseConfig, AppConfig, OSC_COLORS, OSC_FONTS\n",
        "from src.databricks_client import (\n",
        "    get_workspace_client,\n",
        "    call_endpoint,\n",
        "    get_user_info,\n",
        "    format_response,\n",
        ")\n",
        "from src.database import (\n",
        "    init_database,\n",
        "    create_conversation,\n",
        "    add_message,\n",
        "    update_message,\n",
        "    get_conversation_messages,\n",
        "    get_message_by_query_id,\n",
        "    get_user_conversations,\n",
        ")\n",
        "\n",
        "print(\"✅ All imports successful!\")\n"
      ]
    },
    {
      "cell_type": "markdown",
      "metadata": {},
      "source": [
        "## 2. Test Configuration\n"
      ]
    },
    {
      "cell_type": "code",
      "execution_count": 2,
      "metadata": {},
      "outputs": [
        {
          "name": "stdout",
          "output_type": "stream",
          "text": [
            "App Configuration:\n",
            "  Title: OSC Market Intelligence\n",
            "  Layout: wide\n",
            "  Async Queries: True\n",
            "\n",
            "Databricks Configuration:\n",
            "  Host: https://e2-demo-field-eng.cloud.databricks.com\n",
            "  Endpoint: mas-1ab024e9-endpoint\n",
            "\n",
            "Database Configuration:\n",
            "  Instance Name: osc-delete-nov1\n",
            "  Database: databricks_postgres\n",
            "\n",
            "Note: Databricks authentication uses SDK defaults (~/.databrickscfg or environment)\n",
            "Note: Database credentials come from environment variables (DB_USER, DB_PASSWORD)\n"
          ]
        }
      ],
      "source": [
        "# Load configurations\n",
        "app_config = AppConfig.from_config()\n",
        "databricks_config = DatabricksConfig.from_config()\n",
        "database_config = DatabaseConfig.from_config()\n",
        "\n",
        "print(\"App Configuration:\")\n",
        "print(f\"  Title: {app_config.title}\")\n",
        "print(f\"  Layout: {app_config.layout}\")\n",
        "print(f\"  Async Queries: {app_config.async_queries_enabled}\")\n",
        "print()\n",
        "print(\"Databricks Configuration:\")\n",
        "print(f\"  Host: {databricks_config.host}\")\n",
        "print(f\"  Endpoint: {databricks_config.endpoint_name}\")\n",
        "print()\n",
        "print(\"Database Configuration:\")\n",
        "print(f\"  Instance Name: {getattr(database_config, 'instance_name', 'Not configured')}\")\n",
        "print(f\"  Database: {getattr(database_config, 'database_name', getattr(database_config, 'name', 'Not configured'))}\")\n",
        "print()\n",
        "print(\"Note: Databricks authentication uses SDK defaults (~/.databrickscfg or environment)\")\n",
        "print(\"Note: Database credentials come from environment variables (DB_USER, DB_PASSWORD)\")\n"
      ]
    },
    {
      "cell_type": "markdown",
      "metadata": {},
      "source": [
        "## 3. Initialize & Test Database\n",
        "\n",
        "This section will:\n",
        "- Test database connectivity\n",
        "- Create required tables if they don't exist\n",
        "- Verify the schema\n"
      ]
    },
    {
      "cell_type": "code",
      "execution_count": 3,
      "metadata": {},
      "outputs": [
        {
          "name": "stdout",
          "output_type": "stream",
          "text": [
            "✅ Databricks WorkspaceClient initialized for host: https://e2-demo-field-eng.cloud.databricks.com\n"
          ]
        }
      ],
      "source": [
        "from databricks.sdk import WorkspaceClient\n",
        "\n",
        "# Initialize workspace client using DatabricksConfig credentials\n",
        "client = WorkspaceClient(\n",
        "    host=databricks_config.host,\n",
        "    # Optionally, you could pass token/databricks_cfg_path, but defaults should work if env/config present\n",
        ")\n",
        "\n",
        "print(f\"✅ Databricks WorkspaceClient initialized for host: {databricks_config.host}\")\n",
        "\n"
      ]
    },
    {
      "cell_type": "code",
      "execution_count": 4,
      "metadata": {},
      "outputs": [],
      "source": [
        "import uuid\n",
        "import psycopg2\n",
        "\n",
        "user = client.current_user.me()\n",
        "_user_email = user.emails[0].value\n",
        "instance_name = database_config.instance_name\n",
        "instance = client.database.get_database_instance(name=instance_name)\n",
        "_credential = client.database.generate_database_credential(\n",
        "    request_id=str(uuid.uuid4()), instance_names=[instance_name]\n",
        ")\n",
        "_connection_params = {\n",
        "    \"host\": instance.read_write_dns,\n",
        "    \"dbname\": database_config.database_name,\n",
        "    \"user\": _user_email,\n",
        "    \"password\": _credential.token,\n",
        "    \"sslmode\": \"require\",\n",
        "}\n",
        "\n",
        "conn = psycopg2.connect(**_connection_params)"
      ]
    },
    {
      "cell_type": "code",
      "execution_count": 5,
      "metadata": {},
      "outputs": [],
      "source": [
        "from src.database import get_connection, init_database"
      ]
    },
    {
      "cell_type": "code",
      "execution_count": 6,
      "metadata": {},
      "outputs": [],
      "source": [
        "conn = get_connection(database_config)"
      ]
    },
    {
      "cell_type": "code",
      "execution_count": 7,
      "metadata": {},
      "outputs": [],
      "source": [
        "init_database(database_config)"
      ]
    },
    {
      "cell_type": "code",
      "execution_count": 8,
      "metadata": {},
      "outputs": [
        {
          "name": "stdout",
          "output_type": "stream",
          "text": [
            "============================================================\n",
            "TESTING DATABASE OPERATIONS\n",
            "============================================================\n",
            "\n",
            "1️⃣  Creating test conversation...\n",
            "   ✅ Created conversation with ID: 5\n",
            "\n",
            "2️⃣  Adding test message...\n",
            "   ✅ Added message with ID: 4\n",
            "\n",
            "3️⃣  Adding pending message (async simulation)...\n",
            "   ✅ Added pending message with ID: 5\n",
            "\n",
            "4️⃣  Updating pending message...\n",
            "   ✅ Updated message 5 to complete\n",
            "\n",
            "5️⃣  Retrieving conversation messages...\n",
            "   ✅ Retrieved 2 message(s)\n",
            "\n",
            "   📋 Conversation History:\n",
            "\n",
            "   Message 1 (ID: 4)\n",
            "   ├─ Question: What is the market outlook for 2024?...\n",
            "   ├─ Answer: The market shows positive indicators with steady growth expe...\n",
            "   ├─ Status: complete\n",
            "   ├─ Query ID: N/A\n",
            "   └─ Created: 2025-10-24 05:53:53.058736\n",
            "\n",
            "   Message 2 (ID: 5)\n",
            "   ├─ Question: Analyze trade execution patterns?...\n",
            "   ├─ Answer: Trade execution analysis complete: patterns show......\n",
            "   ├─ Status: complete\n",
            "   ├─ Query ID: test-query-123\n",
            "   └─ Created: 2025-10-24 05:54:09.358340\n",
            "\n",
            "6️⃣  Testing query_id lookup...\n",
            "   ✅ Found message by query_id: 2\n",
            "\n",
            "7️⃣  Retrieving user conversations...\n",
            "   ✅ User has 3 conversation(s)\n",
            "\n",
            "   Conversation 5:\n",
            "   ├─ Messages: 2\n",
            "   └─ Created: 2025-10-24 05:53:37.838133\n",
            "\n",
            "   Conversation 2:\n",
            "   ├─ Messages: 1\n",
            "   └─ Created: 2025-10-24 05:27:51.437432\n",
            "\n",
            "   Conversation 1:\n",
            "   ├─ Messages: 2\n",
            "   └─ Created: 2025-10-24 05:20:21.084579\n",
            "\n",
            "============================================================\n",
            "✅ ALL DATABASE TESTS PASSED!\n",
            "============================================================\n"
          ]
        }
      ],
      "source": [
        "# Test database operations - CRUD operations\n",
        "print(\"=\" * 60)\n",
        "print(\"TESTING DATABASE OPERATIONS\")\n",
        "print(\"=\" * 60)\n",
        "\n",
        "# 1. Create a test conversation\n",
        "print(\"\\n1️⃣  Creating test conversation...\")\n",
        "test_user_id = \"test_user@example.com\"\n",
        "conversation_id = create_conversation(database_config, test_user_id)\n",
        "print(f\"   ✅ Created conversation with ID: {conversation_id}\")\n",
        "\n",
        "# 2. Add a test message\n",
        "print(\"\\n2️⃣  Adding test message...\")\n",
        "message_id = add_message(\n",
        "    database_config,\n",
        "    conversation_id=conversation_id,\n",
        "    user_id=test_user_id,\n",
        "    question=\"What is the market outlook for 2024?\",\n",
        "    answer=\"The market shows positive indicators with steady growth expected...\",\n",
        "    status=\"complete\"\n",
        ")\n",
        "print(f\"   ✅ Added message with ID: {message_id}\")\n",
        "\n",
        "# 3. Add a pending message (simulating async query)\n",
        "print(\"\\n3️⃣  Adding pending message (async simulation)...\")\n",
        "pending_message_id = add_message(\n",
        "    database_config,\n",
        "    conversation_id=conversation_id,\n",
        "    user_id=test_user_id,\n",
        "    question=\"Analyze trade execution patterns?\",\n",
        "    status=\"pending\",\n",
        "    query_id=\"test-query-123\"\n",
        ")\n",
        "print(f\"   ✅ Added pending message with ID: {pending_message_id}\")\n",
        "\n",
        "# 4. Update the pending message\n",
        "print(\"\\n4️⃣  Updating pending message...\")\n",
        "update_message(\n",
        "    database_config,\n",
        "    message_id=pending_message_id,\n",
        "    answer=\"Trade execution analysis complete: patterns show...\",\n",
        "    status=\"complete\"\n",
        ")\n",
        "print(f\"   ✅ Updated message {pending_message_id} to complete\")\n",
        "\n",
        "# 5. Retrieve all messages in conversation\n",
        "print(\"\\n5️⃣  Retrieving conversation messages...\")\n",
        "messages = get_conversation_messages(database_config, conversation_id)\n",
        "print(f\"   ✅ Retrieved {len(messages)} message(s)\")\n",
        "\n",
        "print(\"\\n   📋 Conversation History:\")\n",
        "for i, msg in enumerate(messages, 1):\n",
        "    print(f\"\\n   Message {i} (ID: {msg['id']})\")\n",
        "    print(f\"   ├─ Question: {msg['question'][:60]}...\")\n",
        "    print(f\"   ├─ Answer: {msg['answer'][:60] if msg['answer'] else 'N/A'}...\")\n",
        "    print(f\"   ├─ Status: {msg['status']}\")\n",
        "    print(f\"   ├─ Query ID: {msg['query_id'] or 'N/A'}\")\n",
        "    print(f\"   └─ Created: {msg['created_at']}\")\n",
        "\n",
        "# 6. Test query_id lookup\n",
        "print(\"\\n6️⃣  Testing query_id lookup...\")\n",
        "message_by_query = get_message_by_query_id(database_config, \"test-query-123\")\n",
        "if message_by_query:\n",
        "    print(f\"   ✅ Found message by query_id: {message_by_query['id']}\")\n",
        "else:\n",
        "    print(\"   ⚠️  No message found for query_id\")\n",
        "\n",
        "# 7. Get user conversations\n",
        "print(\"\\n7️⃣  Retrieving user conversations...\")\n",
        "conversations = get_user_conversations(database_config, test_user_id)\n",
        "print(f\"   ✅ User has {len(conversations)} conversation(s)\")\n",
        "\n",
        "for conv in conversations:\n",
        "    print(f\"\\n   Conversation {conv['id']}:\")\n",
        "    print(f\"   ├─ Messages: {conv['message_count']}\")\n",
        "    print(f\"   └─ Created: {conv['created_at']}\")\n",
        "\n",
        "print(\"\\n\" + \"=\" * 60)\n",
        "print(\"✅ ALL DATABASE TESTS PASSED!\")\n",
        "print(\"=\" * 60)\n"
      ]
    },
    {
      "cell_type": "markdown",
      "metadata": {},
      "source": [
        "# OSC Market Intelligence App - Component Testing\n",
        "\n",
        "This notebook provides interactive testing of the main components of the Market Intelligence application.\n"
      ]
    },
    {
      "cell_type": "code",
      "execution_count": 9,
      "metadata": {},
      "outputs": [
        {
          "name": "stdout",
          "output_type": "stream",
          "text": [
            "✅ All imports successful!\n"
          ]
        }
      ],
      "source": [
        "## 1. Setup and Imports\n",
        "import sys\n",
        "from pathlib import Path\n",
        "\n",
        "# Ensure src is in the path\n",
        "project_root = Path.cwd()\n",
        "sys.path.insert(0, str(project_root))\n",
        "\n",
        "from src.config import DatabricksConfig, DatabaseConfig, AppConfig, OSC_COLORS, OSC_FONTS\n",
        "from src.databricks_client import (\n",
        "    get_workspace_client,\n",
        "    call_endpoint,\n",
        "    get_user_info,\n",
        "    format_response,\n",
        ")\n",
        "from src.database import (\n",
        "    init_database,\n",
        "    create_conversation,\n",
        "    add_message,\n",
        "    update_message,\n",
        "    get_conversation_messages,\n",
        "    get_user_conversations,\n",
        ")\n",
        "\n",
        "print(\"✅ All imports successful!\")\n"
      ]
    },
    {
      "cell_type": "code",
      "execution_count": null,
      "metadata": {},
      "outputs": [
        {
          "name": "stdout",
          "output_type": "stream",
          "text": [
            "Sending question: Summarize the Trade execution patterns and suspicious activity rates in the past 24 hours\n",
            "\n",
            "Calling endpoint...\n"
          ]
        }
      ],
      "source": [
        "## 4. Test Endpoint Call\n",
        "test_question = \"Summarize the Trade execution patterns and suspicious activity rates in the past 24 hours\"\n",
        "\n",
        "try:\n",
        "    print(f\"Sending question: {test_question}\")\n",
        "    print(\"\\nCalling endpoint...\")\n",
        "    \n",
        "    # The call_endpoint function now handles the host configuration internally\n",
        "    response = call_endpoint(\n",
        "        databricks_config,\n",
        "        test_question\n",
        "    )\n",
        "    \n",
        "    print(\"\\n✅ Response received!\")\n",
        "    print(\"\\nRaw response:\")\n",
        "    print(response)\n",
        "    \n",
        "    # Format the response\n",
        "    formatted_answer = format_response(response)\n",
        "    print(\"\\nFormatted answer:\")\n",
        "    print(formatted_answer)\n",
        "    \n",
        "except Exception as e:\n",
        "    print(f\"\\n❌ Error calling endpoint: {e}\")\n",
        "    print(\"\\nThis could be due to:\")\n",
        "    print(\"  - Endpoint not running\")\n",
        "    print(\"  - Incorrect endpoint name in config.yaml\")\n",
        "    print(\"  - Network connectivity issues\")\n",
        "    print(\"  - Authentication problems\")\n"
      ]
    },
    {
      "cell_type": "code",
      "execution_count": null,
      "metadata": {},
      "outputs": [
        {
          "name": "stdout",
          "output_type": "stream",
          "text": [
            "✅ Created conversation with ID: 2\n",
            "✅ Added message with ID: 3\n",
            "\n",
            "✅ Retrieved 1 message(s)\n",
            "\n",
            "Message ID: 3\n",
            "  Question: What is the market outlook for 2024?\n",
            "  Answer: The market shows positive indicators...\n",
            "  Status: complete\n",
            "  Created: 2025-10-24 05:28:05.637313\n",
            "\n",
            "✅ User has 2 conversation(s)\n"
          ]
        }
      ],
      "source": [
        "# Test conversation creation and message storage\n",
        "\n",
        "# Create a test conversation\n",
        "test_user_id = \"test_user@example.com\"\n",
        "conversation_id = create_conversation(database_config, test_user_id)\n",
        "print(f\"✅ Created conversation with ID: {conversation_id}\")\n",
        "\n",
        "# Add a test message\n",
        "message_id = add_message(\n",
        "    database_config,\n",
        "    conversation_id=conversation_id,\n",
        "    user_id=test_user_id,\n",
        "    question=\"What is the market outlook for 2024?\",\n",
        "    answer=\"The market shows positive indicators...\",\n",
        "    status=\"complete\"\n",
        ")\n",
        "print(f\"✅ Added message with ID: {message_id}\")\n",
        "\n",
        "# Retrieve messages\n",
        "messages = get_conversation_messages(database_config, conversation_id)\n",
        "print(f\"\\n✅ Retrieved {len(messages)} message(s)\")\n",
        "\n",
        "for msg in messages:\n",
        "    print(f\"\\nMessage ID: {msg['id']}\")\n",
        "    print(f\"  Question: {msg['question']}\")\n",
        "    print(f\"  Answer: {msg['answer']}\")\n",
        "    print(f\"  Status: {msg['status']}\")\n",
        "    print(f\"  Created: {msg['created_at']}\")\n",
        "\n",
        "# Get user conversations\n",
        "conversations = get_user_conversations(database_config, test_user_id)\n",
        "print(f\"\\n✅ User has {len(conversations)} conversation(s)\")\n"
      ]
    },
    {
      "cell_type": "code",
      "execution_count": null,
      "metadata": {},
      "outputs": [
        {
          "name": "stdout",
          "output_type": "stream",
          "text": [
            "Starting end-to-end test...\n",
            "\n",
            "1. ✅ Created conversation: 4\n",
            "2. 📝 Question: What are the main regulatory priorities for 2024?\n",
            "3. 🔄 Calling Databricks endpoint...\n",
            "   ✅ Got response\n"
          ]
        },
        {
          "ename": "ProgrammingError",
          "evalue": "can't adapt type 'dict'",
          "output_type": "error",
          "traceback": [
            "\u001b[31m---------------------------------------------------------------------------\u001b[39m",
            "\u001b[31mProgrammingError\u001b[39m                          Traceback (most recent call last)",
            "\u001b[36mCell\u001b[39m\u001b[36m \u001b[39m\u001b[32mIn[21]\u001b[39m\u001b[32m, line 21\u001b[39m\n\u001b[32m     18\u001b[39m \u001b[38;5;28mprint\u001b[39m(\u001b[33mf\u001b[39m\u001b[33m\"\u001b[39m\u001b[33m   ✅ Got response\u001b[39m\u001b[33m\"\u001b[39m)\n\u001b[32m     20\u001b[39m \u001b[38;5;66;03m# 4. Save to database\u001b[39;00m\n\u001b[32m---> \u001b[39m\u001b[32m21\u001b[39m msg_id = \u001b[43madd_message\u001b[49m\u001b[43m(\u001b[49m\n\u001b[32m     22\u001b[39m \u001b[43m    \u001b[49m\u001b[43mdatabase_config\u001b[49m\u001b[43m,\u001b[49m\n\u001b[32m     23\u001b[39m \u001b[43m    \u001b[49m\u001b[43mconversation_id\u001b[49m\u001b[43m=\u001b[49m\u001b[43mconv_id\u001b[49m\u001b[43m,\u001b[49m\n\u001b[32m     24\u001b[39m \u001b[43m    \u001b[49m\u001b[43muser_id\u001b[49m\u001b[43m=\u001b[49m\u001b[43muser_id\u001b[49m\u001b[43m,\u001b[49m\n\u001b[32m     25\u001b[39m \u001b[43m    \u001b[49m\u001b[43mquestion\u001b[49m\u001b[43m=\u001b[49m\u001b[43mquestion\u001b[49m\u001b[43m,\u001b[49m\n\u001b[32m     26\u001b[39m \u001b[43m    \u001b[49m\u001b[43manswer\u001b[49m\u001b[43m=\u001b[49m\u001b[43manswer\u001b[49m\u001b[43m,\u001b[49m\n\u001b[32m     27\u001b[39m \u001b[43m    \u001b[49m\u001b[43mstatus\u001b[49m\u001b[43m=\u001b[49m\u001b[33;43m\"\u001b[39;49m\u001b[33;43mcomplete\u001b[39;49m\u001b[33;43m\"\u001b[39;49m\n\u001b[32m     28\u001b[39m \u001b[43m)\u001b[49m\n\u001b[32m     29\u001b[39m \u001b[38;5;28mprint\u001b[39m(\u001b[33mf\u001b[39m\u001b[33m\"\u001b[39m\u001b[33m4. ✅ Saved message: \u001b[39m\u001b[38;5;132;01m{\u001b[39;00mmsg_id\u001b[38;5;132;01m}\u001b[39;00m\u001b[33m\"\u001b[39m)\n\u001b[32m     31\u001b[39m \u001b[38;5;66;03m# 5. Retrieve and display\u001b[39;00m\n",
            "\u001b[36mFile \u001b[39m\u001b[32m~/Repos/market_intelligence_app/src/database.py:138\u001b[39m, in \u001b[36madd_message\u001b[39m\u001b[34m(config, conversation_id, user_id, question, answer, status, query_id)\u001b[39m\n\u001b[32m    136\u001b[39m \u001b[38;5;28;01mwith\u001b[39;00m get_connection(config) \u001b[38;5;28;01mas\u001b[39;00m conn:\n\u001b[32m    137\u001b[39m     \u001b[38;5;28;01mwith\u001b[39;00m conn.cursor() \u001b[38;5;28;01mas\u001b[39;00m cursor:\n\u001b[32m--> \u001b[39m\u001b[32m138\u001b[39m         \u001b[43mcursor\u001b[49m\u001b[43m.\u001b[49m\u001b[43mexecute\u001b[49m\u001b[43m(\u001b[49m\n\u001b[32m    139\u001b[39m \u001b[38;5;250;43m            \u001b[39;49m\u001b[33;43;03m\"\"\"\u001b[39;49;00m\n\u001b[32m    140\u001b[39m \u001b[33;43;03m            INSERT INTO messages \u001b[39;49;00m\n\u001b[32m    141\u001b[39m \u001b[33;43;03m            (conversation_id, user_id, question, answer, status, query_id)\u001b[39;49;00m\n\u001b[32m    142\u001b[39m \u001b[33;43;03m            VALUES (%s, %s, %s, %s, %s, %s)\u001b[39;49;00m\n\u001b[32m    143\u001b[39m \u001b[33;43;03m            RETURNING id\u001b[39;49;00m\n\u001b[32m    144\u001b[39m \u001b[33;43;03m            \"\"\"\u001b[39;49;00m\u001b[43m,\u001b[49m\n\u001b[32m    145\u001b[39m \u001b[43m            \u001b[49m\u001b[43m(\u001b[49m\u001b[43mconversation_id\u001b[49m\u001b[43m,\u001b[49m\u001b[43m \u001b[49m\u001b[43muser_id\u001b[49m\u001b[43m,\u001b[49m\u001b[43m \u001b[49m\u001b[43mquestion\u001b[49m\u001b[43m,\u001b[49m\u001b[43m \u001b[49m\u001b[43manswer\u001b[49m\u001b[43m,\u001b[49m\u001b[43m \u001b[49m\u001b[43mstatus\u001b[49m\u001b[43m,\u001b[49m\u001b[43m \u001b[49m\u001b[43mquery_id\u001b[49m\u001b[43m)\u001b[49m\u001b[43m,\u001b[49m\n\u001b[32m    146\u001b[39m \u001b[43m        \u001b[49m\u001b[43m)\u001b[49m\n\u001b[32m    147\u001b[39m         message_id = cursor.fetchone()[\u001b[32m0\u001b[39m]\n\u001b[32m    148\u001b[39m         conn.commit()\n",
            "\u001b[31mProgrammingError\u001b[39m: can't adapt type 'dict'"
          ]
        }
      ],
      "source": [
        "# Complete workflow test\n",
        "\n",
        "print(\"Starting end-to-end test...\\n\")\n",
        "\n",
        "# 1. Create a new conversation\n",
        "user_id = 'test_id'\n",
        "conv_id = create_conversation(database_config, user_id)\n",
        "print(f\"1. ✅ Created conversation: {conv_id}\")\n",
        "\n",
        "# 2. Ask a question\n",
        "question = \"What are the main regulatory priorities for 2024?\"\n",
        "print(f\"2. 📝 Question: {question}\")\n",
        "\n",
        "# 3. Call the endpoint\n",
        "print(\"3. 🔄 Calling Databricks endpoint...\")\n",
        "response = call_endpoint(databricks_config, question)\n",
        "answer = format_response(response)\n",
        "print(f\"   ✅ Got response\")\n",
        "\n",
        "# 4. Save to database\n",
        "msg_id = add_message(\n",
        "    database_config,\n",
        "    conversation_id=conv_id,\n",
        "    user_id=user_id,\n",
        "    question=question,\n",
        "    answer=answer,\n",
        "    status=\"complete\"\n",
        ")\n",
        "print(f\"4. ✅ Saved message: {msg_id}\")\n",
        "\n",
        "# 5. Retrieve and display\n",
        "messages = get_conversation_messages(database_config, conv_id)\n",
        "print(f\"5. ✅ Retrieved conversation history\")\n",
        "\n",
        "print(\"\\n\" + \"=\" * 60)\n",
        "print(\"CONVERSATION SUMMARY\")\n",
        "print(\"=\" * 60)\n",
        "for msg in messages:\n",
        "    print(f\"\\n🤔 Question: {msg['question']}\")\n",
        "    print(f\"\\n💡 Answer: {msg['answer']}\")\n",
        "    print(f\"\\n📊 Status: {msg['status']}\")\n",
        "    print(f\"⏰ Time: {msg['created_at']}\")\n",
        "\n",
        "print(\"\\n\" + \"=\" * 60)\n",
        "print(\"✅ END-TO-END TEST SUCCESSFUL!\")\n",
        "print(\"=\" * 60)"
      ]
    }
  ],
  "metadata": {
    "kernelspec": {
      "display_name": ".venv",
      "language": "python",
      "name": "python3"
    },
    "language_info": {
      "codemirror_mode": {
        "name": "ipython",
        "version": 3
      },
      "file_extension": ".py",
      "mimetype": "text/x-python",
      "name": "python",
      "nbconvert_exporter": "python",
      "pygments_lexer": "ipython3",
      "version": "3.12.3"
    }
  },
  "nbformat": 4,
  "nbformat_minor": 2
}
