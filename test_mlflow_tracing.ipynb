{
  "cells": [
    {
      "cell_type": "markdown",
      "metadata": {},
      "source": [
        "# MLflow Tracing and Feedback Test\n",
        "\n",
        "This notebook tests MLflow tracing functionality and feedback logging.\n"
      ]
    },
    {
      "cell_type": "code",
      "execution_count": 1,
      "metadata": {},
      "outputs": [],
      "source": [
        "\"\"\"Test script to debug MLflow feedback logging.\"\"\"\n",
        "\n",
        "import mlflow\n",
        "from mlflow.entities import AssessmentSource, AssessmentSourceType\n",
        "from src.config import DatabricksConfig\n"
      ]
    },
    {
      "cell_type": "markdown",
      "metadata": {},
      "source": [
        "## 1. Load Configuration\n"
      ]
    },
    {
      "cell_type": "code",
      "execution_count": 2,
      "metadata": {},
      "outputs": [
        {
          "name": "stdout",
          "output_type": "stream",
          "text": [
            "================================================================================\n",
            "MLflow Feedback Logging Test\n",
            "================================================================================\n",
            "\n",
            "📋 Experiment name: /Users/jag.jasani@databricks.com/mas-1ab024e9-dev-experiment\n",
            "📋 Databricks host: https://e2-demo-field-eng.cloud.databricks.com\n"
          ]
        }
      ],
      "source": [
        "print(\"=\" * 80)\n",
        "print(\"MLflow Feedback Logging Test\")\n",
        "print(\"=\" * 80)\n",
        "\n",
        "# Load config\n",
        "config = DatabricksConfig.from_config()\n",
        "print(f\"\\n📋 Experiment name: {config.experiment_name}\")\n",
        "print(f\"📋 Databricks host: {config.host}\")\n"
      ]
    },
    {
      "cell_type": "markdown",
      "metadata": {},
      "source": [
        "## 2. Set Up MLflow Tracking\n"
      ]
    },
    {
      "cell_type": "markdown",
      "metadata": {},
      "source": [
        "## 3. Get Experiment Details\n",
        "mlflow"
      ]
    },
    {
      "cell_type": "code",
      "execution_count": 5,
      "metadata": {},
      "outputs": [
        {
          "data": {
            "text/plain": [
              "'/Users/jag.jasani@databricks.com/mas-1ab024e9-dev-experiment'"
            ]
          },
          "execution_count": 5,
          "metadata": {},
          "output_type": "execute_result"
        }
      ],
      "source": [
        "config.experiment_name"
      ]
    },
    {
      "cell_type": "code",
      "execution_count": 34,
      "metadata": {},
      "outputs": [
        {
          "name": "stdout",
          "output_type": "stream",
          "text": [
            "\n",
            "✅ Set tracking URI to: databricks\n"
          ]
        }
      ],
      "source": [
        "mlflow.set_tracking_uri(\"databricks://aws\")\n",
        "print(f\"\\n✅ Set tracking URI to: databricks\")\n"
      ]
    },
    {
      "cell_type": "code",
      "execution_count": 40,
      "metadata": {},
      "outputs": [],
      "source": [
        "import os\n",
        "os.environ['MLFLOW_TRACKING_URI'] = \"databricks://aws\""
      ]
    },
    {
      "cell_type": "code",
      "execution_count": null,
      "metadata": {},
      "outputs": [],
      "source": [
        "import os\n",
        "if \"MLFLOW_TRACKING_URI\" in os.environ:\n",
        "    mlflow.set_tracking_uri(os.environ['MLFLOW_TRACKING_URI'])\n",
        "else:\n",
        "    mlflow.set_tracking_uri(\"databricks\")"
      ]
    },
    {
      "cell_type": "code",
      "execution_count": 44,
      "metadata": {},
      "outputs": [
        {
          "data": {
            "text/plain": [
              "'databricks'"
            ]
          },
          "execution_count": 44,
          "metadata": {},
          "output_type": "execute_result"
        }
      ],
      "source": [
        "mlflow.get_tracking_uri()"
      ]
    },
    {
      "cell_type": "code",
      "execution_count": 36,
      "metadata": {},
      "outputs": [
        {
          "name": "stderr",
          "output_type": "stream",
          "text": [
            "/var/folders/2x/pf13chqx4614qjlmjdgmndv00000gp/T/ipykernel_128/1839689125.py:1: FutureWarning: Parameter 'experiment_ids' is deprecated. Please use 'locations' instead.\n",
            "  traces = mlflow.search_traces(experiment_ids=['2894186667355780'],max_results=1)\n"
          ]
        },
        {
          "data": {
            "text/html": [
              "<div>\n",
              "<style scoped>\n",
              "    .dataframe tbody tr th:only-of-type {\n",
              "        vertical-align: middle;\n",
              "    }\n",
              "\n",
              "    .dataframe tbody tr th {\n",
              "        vertical-align: top;\n",
              "    }\n",
              "\n",
              "    .dataframe thead th {\n",
              "        text-align: right;\n",
              "    }\n",
              "</style>\n",
              "<table border=\"1\" class=\"dataframe\">\n",
              "  <thead>\n",
              "    <tr style=\"text-align: right;\">\n",
              "      <th></th>\n",
              "      <th>trace_id</th>\n",
              "      <th>trace</th>\n",
              "      <th>client_request_id</th>\n",
              "      <th>state</th>\n",
              "      <th>request_time</th>\n",
              "      <th>execution_duration</th>\n",
              "      <th>request</th>\n",
              "      <th>response</th>\n",
              "      <th>trace_metadata</th>\n",
              "      <th>tags</th>\n",
              "      <th>spans</th>\n",
              "      <th>assessments</th>\n",
              "    </tr>\n",
              "  </thead>\n",
              "  <tbody>\n",
              "    <tr>\n",
              "      <th>0</th>\n",
              "      <td>tr-2528dea4d8d93b0f726ca9765258bc8f</td>\n",
              "      <td>{\"info\": {\"trace_id\": \"tr-2528dea4d8d93b0f726c...</td>\n",
              "      <td>1a4f511b-01f6-4d65-8b7e-d871f510e749</td>\n",
              "      <td>OK</td>\n",
              "      <td>1761665981297</td>\n",
              "      <td>34973</td>\n",
              "      <td>{'request': {'tool_choice': None, 'truncation'...</td>\n",
              "      <td>[{'type': 'response.output_item.done', 'custom...</td>\n",
              "      <td>{'mlflow.databricks.modelServingEndpointName':...</td>\n",
              "      <td>{'mlflow.user': '36e54aae-60ee-4b37-b711-d7559...</td>\n",
              "      <td>[{'trace_id': 'JSjepNjZOw9ybKl2Uli8jw==', 'spa...</td>\n",
              "      <td>[]</td>\n",
              "    </tr>\n",
              "  </tbody>\n",
              "</table>\n",
              "</div>"
            ],
            "text/plain": [
              "                              trace_id  \\\n",
              "0  tr-2528dea4d8d93b0f726ca9765258bc8f   \n",
              "\n",
              "                                               trace  \\\n",
              "0  {\"info\": {\"trace_id\": \"tr-2528dea4d8d93b0f726c...   \n",
              "\n",
              "                      client_request_id state   request_time  \\\n",
              "0  1a4f511b-01f6-4d65-8b7e-d871f510e749    OK  1761665981297   \n",
              "\n",
              "   execution_duration                                            request  \\\n",
              "0               34973  {'request': {'tool_choice': None, 'truncation'...   \n",
              "\n",
              "                                            response  \\\n",
              "0  [{'type': 'response.output_item.done', 'custom...   \n",
              "\n",
              "                                      trace_metadata  \\\n",
              "0  {'mlflow.databricks.modelServingEndpointName':...   \n",
              "\n",
              "                                                tags  \\\n",
              "0  {'mlflow.user': '36e54aae-60ee-4b37-b711-d7559...   \n",
              "\n",
              "                                               spans assessments  \n",
              "0  [{'trace_id': 'JSjepNjZOw9ybKl2Uli8jw==', 'spa...          []  "
            ]
          },
          "execution_count": 36,
          "metadata": {},
          "output_type": "execute_result"
        }
      ],
      "source": [
        "traces = mlflow.search_traces(experiment_ids=['2894186667355780'],max_results=1)\n",
        "traces"
      ]
    },
    {
      "cell_type": "code",
      "execution_count": 29,
      "metadata": {},
      "outputs": [
        {
          "name": "stderr",
          "output_type": "stream",
          "text": [
            "/var/folders/2x/pf13chqx4614qjlmjdgmndv00000gp/T/ipykernel_128/3238812751.py:1: FutureWarning: Parameter 'experiment_ids' is deprecated. Please use 'locations' instead.\n",
            "  traces = mlflow.search_traces(experiment_ids=['3036037102232956'],max_results=1)\n"
          ]
        },
        {
          "ename": "MlflowException",
          "evalue": "Experiment 3036037102232956 does not exist.",
          "output_type": "error",
          "traceback": [
            "\u001b[31m---------------------------------------------------------------------------\u001b[39m",
            "\u001b[31mMlflowException\u001b[39m                           Traceback (most recent call last)",
            "\u001b[36mCell\u001b[39m\u001b[36m \u001b[39m\u001b[32mIn[29]\u001b[39m\u001b[32m, line 1\u001b[39m\n\u001b[32m----> \u001b[39m\u001b[32m1\u001b[39m traces = \u001b[43mmlflow\u001b[49m\u001b[43m.\u001b[49m\u001b[43msearch_traces\u001b[49m\u001b[43m(\u001b[49m\u001b[43mexperiment_ids\u001b[49m\u001b[43m=\u001b[49m\u001b[43m[\u001b[49m\u001b[33;43m'\u001b[39;49m\u001b[33;43m3036037102232956\u001b[39;49m\u001b[33;43m'\u001b[39;49m\u001b[43m]\u001b[49m\u001b[43m,\u001b[49m\u001b[43mmax_results\u001b[49m\u001b[43m=\u001b[49m\u001b[32;43m1\u001b[39;49m\u001b[43m)\u001b[49m\n\u001b[32m      2\u001b[39m traces\n",
            "\u001b[36mFile \u001b[39m\u001b[32m~/Repos/market_intelligence_app/.venv/lib/python3.12/site-packages/mlflow/utils/annotations.py:260\u001b[39m, in \u001b[36mdeprecated_parameter.<locals>.decorator.<locals>.wrapper\u001b[39m\u001b[34m(*args, **kwargs)\u001b[39m\n\u001b[32m    253\u001b[39m         \u001b[38;5;28;01mraise\u001b[39;00m \u001b[38;5;167;01mValueError\u001b[39;00m(\n\u001b[32m    254\u001b[39m             \u001b[33mf\u001b[39m\u001b[33m\"\u001b[39m\u001b[33mCannot specify both \u001b[39m\u001b[33m'\u001b[39m\u001b[38;5;132;01m{\u001b[39;00mold_param\u001b[38;5;132;01m}\u001b[39;00m\u001b[33m'\u001b[39m\u001b[33m (deprecated) and \u001b[39m\u001b[33m'\u001b[39m\u001b[38;5;132;01m{\u001b[39;00mnew_param\u001b[38;5;132;01m}\u001b[39;00m\u001b[33m'\u001b[39m\u001b[33m. \u001b[39m\u001b[33m\"\u001b[39m\n\u001b[32m    255\u001b[39m             \u001b[33mf\u001b[39m\u001b[33m\"\u001b[39m\u001b[33mUse \u001b[39m\u001b[33m'\u001b[39m\u001b[38;5;132;01m{\u001b[39;00mnew_param\u001b[38;5;132;01m}\u001b[39;00m\u001b[33m'\u001b[39m\u001b[33m only.\u001b[39m\u001b[33m\"\u001b[39m\n\u001b[32m    256\u001b[39m         )\n\u001b[32m    258\u001b[39m     kwargs[new_param] = old_value\n\u001b[32m--> \u001b[39m\u001b[32m260\u001b[39m \u001b[38;5;28;01mreturn\u001b[39;00m \u001b[43mfunc\u001b[49m\u001b[43m(\u001b[49m\u001b[43m*\u001b[49m\u001b[43margs\u001b[49m\u001b[43m,\u001b[49m\u001b[43m \u001b[49m\u001b[43m*\u001b[49m\u001b[43m*\u001b[49m\u001b[43mkwargs\u001b[49m\u001b[43m)\u001b[49m\n",
            "\u001b[36mFile \u001b[39m\u001b[32m~/Repos/market_intelligence_app/.venv/lib/python3.12/site-packages/mlflow/tracing/fluent.py:857\u001b[39m, in \u001b[36msearch_traces\u001b[39m\u001b[34m(experiment_ids, filter_string, max_results, order_by, extract_fields, run_id, return_type, model_id, sql_warehouse_id, include_spans, locations)\u001b[39m\n\u001b[32m    844\u001b[39m \u001b[38;5;28;01mdef\u001b[39;00m\u001b[38;5;250m \u001b[39m\u001b[34mpagination_wrapper_func\u001b[39m(number_to_get, next_page_token):\n\u001b[32m    845\u001b[39m     \u001b[38;5;28;01mreturn\u001b[39;00m TracingClient().search_traces(\n\u001b[32m    846\u001b[39m         experiment_ids=experiment_ids,\n\u001b[32m    847\u001b[39m         run_id=run_id,\n\u001b[32m   (...)\u001b[39m\u001b[32m    854\u001b[39m         locations=locations,\n\u001b[32m    855\u001b[39m     )\n\u001b[32m--> \u001b[39m\u001b[32m857\u001b[39m results = \u001b[43mget_results_from_paginated_fn\u001b[49m\u001b[43m(\u001b[49m\n\u001b[32m    858\u001b[39m \u001b[43m    \u001b[49m\u001b[43mpagination_wrapper_func\u001b[49m\u001b[43m,\u001b[49m\n\u001b[32m    859\u001b[39m \u001b[43m    \u001b[49m\u001b[43mmax_results_per_page\u001b[49m\u001b[43m=\u001b[49m\u001b[43mSEARCH_TRACES_DEFAULT_MAX_RESULTS\u001b[49m\u001b[43m,\u001b[49m\n\u001b[32m    860\u001b[39m \u001b[43m    \u001b[49m\u001b[43mmax_results\u001b[49m\u001b[43m=\u001b[49m\u001b[43mmax_results\u001b[49m\u001b[43m,\u001b[49m\n\u001b[32m    861\u001b[39m \u001b[43m\u001b[49m\u001b[43m)\u001b[49m\n\u001b[32m    863\u001b[39m \u001b[38;5;28;01mif\u001b[39;00m return_type == \u001b[33m\"\u001b[39m\u001b[33mpandas\u001b[39m\u001b[33m\"\u001b[39m:\n\u001b[32m    864\u001b[39m     results = traces_to_df(results, extract_fields=extract_fields)\n",
            "\u001b[36mFile \u001b[39m\u001b[32m~/Repos/market_intelligence_app/.venv/lib/python3.12/site-packages/mlflow/utils/__init__.py:236\u001b[39m, in \u001b[36mget_results_from_paginated_fn\u001b[39m\u001b[34m(paginated_fn, max_results_per_page, max_results)\u001b[39m\n\u001b[32m    234\u001b[39m num_to_get = max_results_per_page \u001b[38;5;28;01mif\u001b[39;00m returns_all \u001b[38;5;28;01melse\u001b[39;00m max_results - \u001b[38;5;28mlen\u001b[39m(all_results)\n\u001b[32m    235\u001b[39m \u001b[38;5;28;01mif\u001b[39;00m num_to_get < max_results_per_page:\n\u001b[32m--> \u001b[39m\u001b[32m236\u001b[39m     page_results = \u001b[43mpaginated_fn\u001b[49m\u001b[43m(\u001b[49m\u001b[43mnum_to_get\u001b[49m\u001b[43m,\u001b[49m\u001b[43m \u001b[49m\u001b[43mnext_page_token\u001b[49m\u001b[43m)\u001b[49m\n\u001b[32m    237\u001b[39m \u001b[38;5;28;01melse\u001b[39;00m:\n\u001b[32m    238\u001b[39m     page_results = paginated_fn(max_results_per_page, next_page_token)\n",
            "\u001b[36mFile \u001b[39m\u001b[32m~/Repos/market_intelligence_app/.venv/lib/python3.12/site-packages/mlflow/tracing/fluent.py:845\u001b[39m, in \u001b[36msearch_traces.<locals>.pagination_wrapper_func\u001b[39m\u001b[34m(number_to_get, next_page_token)\u001b[39m\n\u001b[32m    844\u001b[39m \u001b[38;5;28;01mdef\u001b[39;00m\u001b[38;5;250m \u001b[39m\u001b[34mpagination_wrapper_func\u001b[39m(number_to_get, next_page_token):\n\u001b[32m--> \u001b[39m\u001b[32m845\u001b[39m     \u001b[38;5;28;01mreturn\u001b[39;00m \u001b[43mTracingClient\u001b[49m\u001b[43m(\u001b[49m\u001b[43m)\u001b[49m\u001b[43m.\u001b[49m\u001b[43msearch_traces\u001b[49m\u001b[43m(\u001b[49m\n\u001b[32m    846\u001b[39m \u001b[43m        \u001b[49m\u001b[43mexperiment_ids\u001b[49m\u001b[43m=\u001b[49m\u001b[43mexperiment_ids\u001b[49m\u001b[43m,\u001b[49m\n\u001b[32m    847\u001b[39m \u001b[43m        \u001b[49m\u001b[43mrun_id\u001b[49m\u001b[43m=\u001b[49m\u001b[43mrun_id\u001b[49m\u001b[43m,\u001b[49m\n\u001b[32m    848\u001b[39m \u001b[43m        \u001b[49m\u001b[43mmax_results\u001b[49m\u001b[43m=\u001b[49m\u001b[43mnumber_to_get\u001b[49m\u001b[43m,\u001b[49m\n\u001b[32m    849\u001b[39m \u001b[43m        \u001b[49m\u001b[43mfilter_string\u001b[49m\u001b[43m=\u001b[49m\u001b[43mfilter_string\u001b[49m\u001b[43m,\u001b[49m\n\u001b[32m    850\u001b[39m \u001b[43m        \u001b[49m\u001b[43morder_by\u001b[49m\u001b[43m=\u001b[49m\u001b[43morder_by\u001b[49m\u001b[43m,\u001b[49m\n\u001b[32m    851\u001b[39m \u001b[43m        \u001b[49m\u001b[43mpage_token\u001b[49m\u001b[43m=\u001b[49m\u001b[43mnext_page_token\u001b[49m\u001b[43m,\u001b[49m\n\u001b[32m    852\u001b[39m \u001b[43m        \u001b[49m\u001b[43mmodel_id\u001b[49m\u001b[43m=\u001b[49m\u001b[43mmodel_id\u001b[49m\u001b[43m,\u001b[49m\n\u001b[32m    853\u001b[39m \u001b[43m        \u001b[49m\u001b[43minclude_spans\u001b[49m\u001b[43m=\u001b[49m\u001b[43minclude_spans\u001b[49m\u001b[43m,\u001b[49m\n\u001b[32m    854\u001b[39m \u001b[43m        \u001b[49m\u001b[43mlocations\u001b[49m\u001b[43m=\u001b[49m\u001b[43mlocations\u001b[49m\u001b[43m,\u001b[49m\n\u001b[32m    855\u001b[39m \u001b[43m    \u001b[49m\u001b[43m)\u001b[49m\n",
            "\u001b[36mFile \u001b[39m\u001b[32m~/Repos/market_intelligence_app/.venv/lib/python3.12/site-packages/mlflow/tracing/client.py:319\u001b[39m, in \u001b[36mTracingClient.search_traces\u001b[39m\u001b[34m(self, experiment_ids, filter_string, max_results, order_by, page_token, run_id, include_spans, model_id, locations)\u001b[39m\n\u001b[32m    317\u001b[39m \u001b[38;5;28;01mwith\u001b[39;00m executor:\n\u001b[32m    318\u001b[39m     \u001b[38;5;28;01mwhile\u001b[39;00m \u001b[38;5;28mlen\u001b[39m(traces) < max_results:\n\u001b[32m--> \u001b[39m\u001b[32m319\u001b[39m         trace_infos, next_token = \u001b[38;5;28;43mself\u001b[39;49m\u001b[43m.\u001b[49m\u001b[43m_search_traces\u001b[49m\u001b[43m(\u001b[49m\n\u001b[32m    320\u001b[39m \u001b[43m            \u001b[49m\u001b[43mexperiment_ids\u001b[49m\u001b[43m=\u001b[49m\u001b[43mexperiment_ids\u001b[49m\u001b[43m,\u001b[49m\n\u001b[32m    321\u001b[39m \u001b[43m            \u001b[49m\u001b[43mfilter_string\u001b[49m\u001b[43m=\u001b[49m\u001b[43mfilter_string\u001b[49m\u001b[43m,\u001b[49m\n\u001b[32m    322\u001b[39m \u001b[43m            \u001b[49m\u001b[43mmax_results\u001b[49m\u001b[43m=\u001b[49m\u001b[43mnext_max_results\u001b[49m\u001b[43m,\u001b[49m\n\u001b[32m    323\u001b[39m \u001b[43m            \u001b[49m\u001b[43morder_by\u001b[49m\u001b[43m=\u001b[49m\u001b[43morder_by\u001b[49m\u001b[43m,\u001b[49m\n\u001b[32m    324\u001b[39m \u001b[43m            \u001b[49m\u001b[43mpage_token\u001b[49m\u001b[43m=\u001b[49m\u001b[43mnext_token\u001b[49m\u001b[43m,\u001b[49m\n\u001b[32m    325\u001b[39m \u001b[43m            \u001b[49m\u001b[43mmodel_id\u001b[49m\u001b[43m=\u001b[49m\u001b[43mmodel_id\u001b[49m\u001b[43m,\u001b[49m\n\u001b[32m    326\u001b[39m \u001b[43m            \u001b[49m\u001b[43mlocations\u001b[49m\u001b[43m=\u001b[49m\u001b[43mlocations\u001b[49m\u001b[43m,\u001b[49m\n\u001b[32m    327\u001b[39m \u001b[43m        \u001b[49m\u001b[43m)\u001b[49m\n\u001b[32m    329\u001b[39m         \u001b[38;5;28;01mif\u001b[39;00m include_spans:\n\u001b[32m    330\u001b[39m             location_to_trace_infos = \u001b[38;5;28mself\u001b[39m._group_trace_infos_by_location(trace_infos)\n",
            "\u001b[36mFile \u001b[39m\u001b[32m~/Repos/market_intelligence_app/.venv/lib/python3.12/site-packages/mlflow/tracing/client.py:215\u001b[39m, in \u001b[36mTracingClient._search_traces\u001b[39m\u001b[34m(self, experiment_ids, filter_string, max_results, order_by, page_token, model_id, locations)\u001b[39m\n\u001b[32m    205\u001b[39m \u001b[38;5;28;01mdef\u001b[39;00m\u001b[38;5;250m \u001b[39m\u001b[34m_search_traces\u001b[39m(\n\u001b[32m    206\u001b[39m     \u001b[38;5;28mself\u001b[39m,\n\u001b[32m    207\u001b[39m     experiment_ids: \u001b[38;5;28mlist\u001b[39m[\u001b[38;5;28mstr\u001b[39m] | \u001b[38;5;28;01mNone\u001b[39;00m = \u001b[38;5;28;01mNone\u001b[39;00m,\n\u001b[32m   (...)\u001b[39m\u001b[32m    213\u001b[39m     locations: \u001b[38;5;28mlist\u001b[39m[\u001b[38;5;28mstr\u001b[39m] | \u001b[38;5;28;01mNone\u001b[39;00m = \u001b[38;5;28;01mNone\u001b[39;00m,\n\u001b[32m    214\u001b[39m ):\n\u001b[32m--> \u001b[39m\u001b[32m215\u001b[39m     \u001b[38;5;28;01mreturn\u001b[39;00m \u001b[38;5;28;43mself\u001b[39;49m\u001b[43m.\u001b[49m\u001b[43mstore\u001b[49m\u001b[43m.\u001b[49m\u001b[43msearch_traces\u001b[49m\u001b[43m(\u001b[49m\n\u001b[32m    216\u001b[39m \u001b[43m        \u001b[49m\u001b[43mexperiment_ids\u001b[49m\u001b[43m=\u001b[49m\u001b[43mexperiment_ids\u001b[49m\u001b[43m,\u001b[49m\n\u001b[32m    217\u001b[39m \u001b[43m        \u001b[49m\u001b[43mfilter_string\u001b[49m\u001b[43m=\u001b[49m\u001b[43mfilter_string\u001b[49m\u001b[43m,\u001b[49m\n\u001b[32m    218\u001b[39m \u001b[43m        \u001b[49m\u001b[43mmax_results\u001b[49m\u001b[43m=\u001b[49m\u001b[43mmax_results\u001b[49m\u001b[43m,\u001b[49m\n\u001b[32m    219\u001b[39m \u001b[43m        \u001b[49m\u001b[43morder_by\u001b[49m\u001b[43m=\u001b[49m\u001b[43morder_by\u001b[49m\u001b[43m,\u001b[49m\n\u001b[32m    220\u001b[39m \u001b[43m        \u001b[49m\u001b[43mpage_token\u001b[49m\u001b[43m=\u001b[49m\u001b[43mpage_token\u001b[49m\u001b[43m,\u001b[49m\n\u001b[32m    221\u001b[39m \u001b[43m        \u001b[49m\u001b[43mmodel_id\u001b[49m\u001b[43m=\u001b[49m\u001b[43mmodel_id\u001b[49m\u001b[43m,\u001b[49m\n\u001b[32m    222\u001b[39m \u001b[43m        \u001b[49m\u001b[43mlocations\u001b[49m\u001b[43m=\u001b[49m\u001b[43mlocations\u001b[49m\u001b[43m,\u001b[49m\n\u001b[32m    223\u001b[39m \u001b[43m    \u001b[49m\u001b[43m)\u001b[49m\n",
            "\u001b[36mFile \u001b[39m\u001b[32m~/Repos/market_intelligence_app/.venv/lib/python3.12/site-packages/mlflow/store/tracking/file_store.py:2190\u001b[39m, in \u001b[36mFileStore.search_traces\u001b[39m\u001b[34m(self, experiment_ids, filter_string, max_results, order_by, page_token, model_id, locations)\u001b[39m\n\u001b[32m   2188\u001b[39m traces = []\n\u001b[32m   2189\u001b[39m \u001b[38;5;28;01mfor\u001b[39;00m experiment_id \u001b[38;5;129;01min\u001b[39;00m locations:\n\u001b[32m-> \u001b[39m\u001b[32m2190\u001b[39m     trace_infos = \u001b[38;5;28;43mself\u001b[39;49m\u001b[43m.\u001b[49m\u001b[43m_list_trace_infos\u001b[49m\u001b[43m(\u001b[49m\u001b[43mexperiment_id\u001b[49m\u001b[43m)\u001b[49m\n\u001b[32m   2191\u001b[39m     traces.extend(trace_infos)\n\u001b[32m   2192\u001b[39m filtered = SearchTraceUtils.filter(traces, filter_string)\n",
            "\u001b[36mFile \u001b[39m\u001b[32m~/Repos/market_intelligence_app/.venv/lib/python3.12/site-packages/mlflow/store/tracking/file_store.py:2198\u001b[39m, in \u001b[36mFileStore._list_trace_infos\u001b[39m\u001b[34m(self, experiment_id)\u001b[39m\n\u001b[32m   2197\u001b[39m \u001b[38;5;28;01mdef\u001b[39;00m\u001b[38;5;250m \u001b[39m\u001b[34m_list_trace_infos\u001b[39m(\u001b[38;5;28mself\u001b[39m, experiment_id):\n\u001b[32m-> \u001b[39m\u001b[32m2198\u001b[39m     experiment_path = \u001b[38;5;28;43mself\u001b[39;49m\u001b[43m.\u001b[49m\u001b[43m_get_experiment_path\u001b[49m\u001b[43m(\u001b[49m\u001b[43mexperiment_id\u001b[49m\u001b[43m,\u001b[49m\u001b[43m \u001b[49m\u001b[43massert_exists\u001b[49m\u001b[43m=\u001b[49m\u001b[38;5;28;43;01mTrue\u001b[39;49;00m\u001b[43m)\u001b[49m\n\u001b[32m   2199\u001b[39m     traces_path = os.path.join(experiment_path, FileStore.TRACES_FOLDER_NAME)\n\u001b[32m   2200\u001b[39m     \u001b[38;5;28;01mif\u001b[39;00m \u001b[38;5;129;01mnot\u001b[39;00m os.path.exists(traces_path):\n",
            "\u001b[36mFile \u001b[39m\u001b[32m~/Repos/market_intelligence_app/.venv/lib/python3.12/site-packages/mlflow/store/tracking/file_store.py:260\u001b[39m, in \u001b[36mFileStore._get_experiment_path\u001b[39m\u001b[34m(self, experiment_id, view_type, assert_exists)\u001b[39m\n\u001b[32m    258\u001b[39m         \u001b[38;5;28;01mreturn\u001b[39;00m exp_list[\u001b[32m0\u001b[39m]\n\u001b[32m    259\u001b[39m \u001b[38;5;28;01mif\u001b[39;00m assert_exists:\n\u001b[32m--> \u001b[39m\u001b[32m260\u001b[39m     \u001b[38;5;28;01mraise\u001b[39;00m MlflowException(\n\u001b[32m    261\u001b[39m         \u001b[33mf\u001b[39m\u001b[33m\"\u001b[39m\u001b[33mExperiment \u001b[39m\u001b[38;5;132;01m{\u001b[39;00mexperiment_id\u001b[38;5;132;01m}\u001b[39;00m\u001b[33m does not exist.\u001b[39m\u001b[33m\"\u001b[39m,\n\u001b[32m    262\u001b[39m         databricks_pb2.RESOURCE_DOES_NOT_EXIST,\n\u001b[32m    263\u001b[39m     )\n\u001b[32m    264\u001b[39m \u001b[38;5;28;01mreturn\u001b[39;00m \u001b[38;5;28;01mNone\u001b[39;00m\n",
            "\u001b[31mMlflowException\u001b[39m: Experiment 3036037102232956 does not exist."
          ]
        }
      ],
      "source": [
        "traces = mlflow.search_traces(experiment_ids=['3036037102232956'],max_results=1)\n",
        "traces"
      ]
    },
    {
      "cell_type": "code",
      "execution_count": 19,
      "metadata": {},
      "outputs": [
        {
          "ename": "MlflowException",
          "evalue": "Detected Unity Catalog tracking URI 'databricks-uc'. Setting the tracking URI to a Unity Catalog backend is not supported in the current version of the MLflow client (3.5.1). Please specify a different tracking URI via mlflow.set_tracking_uri, with one of the supported schemes: ['', 'file', 'databricks', 'http', 'https', 'postgresql', 'mysql', 'sqlite', 'mssql']. If you're trying to access models in the Unity Catalog, please upgrade to the latest version of the MLflow Python client, then specify a Unity Catalog model registry URI via mlflow.set_registry_uri('databricks-uc') or mlflow.set_registry_uri('databricks-uc://profile_name') where 'profile_name' is the name of the Databricks CLI profile to use for authentication. A OSS Unity Catalog model registry URI can also be specified via mlflow.set_registry_uri('uc:http://localhost:8080').Be sure to leave the registry URI configured to use one of the supportedschemes listed above.",
          "output_type": "error",
          "traceback": [
            "\u001b[31m---------------------------------------------------------------------------\u001b[39m",
            "\u001b[31mMlflowException\u001b[39m                           Traceback (most recent call last)",
            "\u001b[36mCell\u001b[39m\u001b[36m \u001b[39m\u001b[32mIn[19]\u001b[39m\u001b[32m, line 1\u001b[39m\n\u001b[32m----> \u001b[39m\u001b[32m1\u001b[39m \u001b[43mmlflow\u001b[49m\u001b[43m.\u001b[49m\u001b[43msearch_experiments\u001b[49m\u001b[43m(\u001b[49m\u001b[43mmax_results\u001b[49m\u001b[43m=\u001b[49m\u001b[32;43m3\u001b[39;49m\u001b[43m)\u001b[49m\n",
            "\u001b[36mFile \u001b[39m\u001b[32m~/Repos/market_intelligence_app/.venv/lib/python3.12/site-packages/mlflow/tracking/fluent.py:2052\u001b[39m, in \u001b[36msearch_experiments\u001b[39m\u001b[34m(view_type, max_results, filter_string, order_by)\u001b[39m\n\u001b[32m   2043\u001b[39m \u001b[38;5;28;01mdef\u001b[39;00m\u001b[38;5;250m \u001b[39m\u001b[34mpagination_wrapper_func\u001b[39m(number_to_get, next_page_token):\n\u001b[32m   2044\u001b[39m     \u001b[38;5;28;01mreturn\u001b[39;00m MlflowClient().search_experiments(\n\u001b[32m   2045\u001b[39m         view_type=view_type,\n\u001b[32m   2046\u001b[39m         max_results=number_to_get,\n\u001b[32m   (...)\u001b[39m\u001b[32m   2049\u001b[39m         page_token=next_page_token,\n\u001b[32m   2050\u001b[39m     )\n\u001b[32m-> \u001b[39m\u001b[32m2052\u001b[39m \u001b[38;5;28;01mreturn\u001b[39;00m \u001b[43mget_results_from_paginated_fn\u001b[49m\u001b[43m(\u001b[49m\n\u001b[32m   2053\u001b[39m \u001b[43m    \u001b[49m\u001b[43mpagination_wrapper_func\u001b[49m\u001b[43m,\u001b[49m\n\u001b[32m   2054\u001b[39m \u001b[43m    \u001b[49m\u001b[43mSEARCH_MAX_RESULTS_DEFAULT\u001b[49m\u001b[43m,\u001b[49m\n\u001b[32m   2055\u001b[39m \u001b[43m    \u001b[49m\u001b[43mmax_results\u001b[49m\u001b[43m,\u001b[49m\n\u001b[32m   2056\u001b[39m \u001b[43m\u001b[49m\u001b[43m)\u001b[49m\n",
            "\u001b[36mFile \u001b[39m\u001b[32m~/Repos/market_intelligence_app/.venv/lib/python3.12/site-packages/mlflow/utils/__init__.py:236\u001b[39m, in \u001b[36mget_results_from_paginated_fn\u001b[39m\u001b[34m(paginated_fn, max_results_per_page, max_results)\u001b[39m\n\u001b[32m    234\u001b[39m num_to_get = max_results_per_page \u001b[38;5;28;01mif\u001b[39;00m returns_all \u001b[38;5;28;01melse\u001b[39;00m max_results - \u001b[38;5;28mlen\u001b[39m(all_results)\n\u001b[32m    235\u001b[39m \u001b[38;5;28;01mif\u001b[39;00m num_to_get < max_results_per_page:\n\u001b[32m--> \u001b[39m\u001b[32m236\u001b[39m     page_results = \u001b[43mpaginated_fn\u001b[49m\u001b[43m(\u001b[49m\u001b[43mnum_to_get\u001b[49m\u001b[43m,\u001b[49m\u001b[43m \u001b[49m\u001b[43mnext_page_token\u001b[49m\u001b[43m)\u001b[49m\n\u001b[32m    237\u001b[39m \u001b[38;5;28;01melse\u001b[39;00m:\n\u001b[32m    238\u001b[39m     page_results = paginated_fn(max_results_per_page, next_page_token)\n",
            "\u001b[36mFile \u001b[39m\u001b[32m~/Repos/market_intelligence_app/.venv/lib/python3.12/site-packages/mlflow/tracking/fluent.py:2044\u001b[39m, in \u001b[36msearch_experiments.<locals>.pagination_wrapper_func\u001b[39m\u001b[34m(number_to_get, next_page_token)\u001b[39m\n\u001b[32m   2043\u001b[39m \u001b[38;5;28;01mdef\u001b[39;00m\u001b[38;5;250m \u001b[39m\u001b[34mpagination_wrapper_func\u001b[39m(number_to_get, next_page_token):\n\u001b[32m-> \u001b[39m\u001b[32m2044\u001b[39m     \u001b[38;5;28;01mreturn\u001b[39;00m \u001b[43mMlflowClient\u001b[49m\u001b[43m(\u001b[49m\u001b[43m)\u001b[49m.search_experiments(\n\u001b[32m   2045\u001b[39m         view_type=view_type,\n\u001b[32m   2046\u001b[39m         max_results=number_to_get,\n\u001b[32m   2047\u001b[39m         filter_string=filter_string,\n\u001b[32m   2048\u001b[39m         order_by=order_by,\n\u001b[32m   2049\u001b[39m         page_token=next_page_token,\n\u001b[32m   2050\u001b[39m     )\n",
            "\u001b[36mFile \u001b[39m\u001b[32m~/Repos/market_intelligence_app/.venv/lib/python3.12/site-packages/mlflow/tracking/client.py:218\u001b[39m, in \u001b[36mMlflowClient.__init__\u001b[39m\u001b[34m(self, tracking_uri, registry_uri)\u001b[39m\n\u001b[32m    216\u001b[39m final_tracking_uri = utils._resolve_tracking_uri(tracking_uri)\n\u001b[32m    217\u001b[39m \u001b[38;5;28mself\u001b[39m._registry_uri = registry_utils._resolve_registry_uri(registry_uri, tracking_uri)\n\u001b[32m--> \u001b[39m\u001b[32m218\u001b[39m \u001b[38;5;28mself\u001b[39m._tracking_client = \u001b[43mTrackingServiceClient\u001b[49m\u001b[43m(\u001b[49m\u001b[43mfinal_tracking_uri\u001b[49m\u001b[43m)\u001b[49m\n\u001b[32m    219\u001b[39m \u001b[38;5;28mself\u001b[39m._tracing_client = TracingClient(tracking_uri)\n",
            "\u001b[36mFile \u001b[39m\u001b[32m~/Repos/market_intelligence_app/.venv/lib/python3.12/site-packages/mlflow/tracking/_tracking_service/client.py:96\u001b[39m, in \u001b[36mTrackingServiceClient.__init__\u001b[39m\u001b[34m(self, tracking_uri)\u001b[39m\n\u001b[32m     91\u001b[39m \u001b[38;5;28mself\u001b[39m.tracking_uri = tracking_uri\n\u001b[32m     92\u001b[39m \u001b[38;5;66;03m# NB: Fetch the tracking store (`self.store`) upon client initialization to ensure that\u001b[39;00m\n\u001b[32m     93\u001b[39m \u001b[38;5;66;03m# the tracking URI is valid and the store can be properly resolved. We define `store` as a\u001b[39;00m\n\u001b[32m     94\u001b[39m \u001b[38;5;66;03m# property method to ensure that the client is serializable, even if the store is not\u001b[39;00m\n\u001b[32m     95\u001b[39m \u001b[38;5;66;03m# self.store\u001b[39;00m\n\u001b[32m---> \u001b[39m\u001b[32m96\u001b[39m \u001b[38;5;28;43mself\u001b[39;49m\u001b[43m.\u001b[49m\u001b[43mstore\u001b[49m\n",
            "\u001b[36mFile \u001b[39m\u001b[32m~/Repos/market_intelligence_app/.venv/lib/python3.12/site-packages/mlflow/tracking/_tracking_service/client.py:100\u001b[39m, in \u001b[36mTrackingServiceClient.store\u001b[39m\u001b[34m(self)\u001b[39m\n\u001b[32m     98\u001b[39m \u001b[38;5;129m@property\u001b[39m\n\u001b[32m     99\u001b[39m \u001b[38;5;28;01mdef\u001b[39;00m\u001b[38;5;250m \u001b[39m\u001b[34mstore\u001b[39m(\u001b[38;5;28mself\u001b[39m):\n\u001b[32m--> \u001b[39m\u001b[32m100\u001b[39m     \u001b[38;5;28;01mreturn\u001b[39;00m \u001b[43mutils\u001b[49m\u001b[43m.\u001b[49m\u001b[43m_get_store\u001b[49m\u001b[43m(\u001b[49m\u001b[38;5;28;43mself\u001b[39;49m\u001b[43m.\u001b[49m\u001b[43mtracking_uri\u001b[49m\u001b[43m)\u001b[49m\n",
            "\u001b[36mFile \u001b[39m\u001b[32m~/Repos/market_intelligence_app/.venv/lib/python3.12/site-packages/mlflow/tracking/_tracking_service/utils.py:216\u001b[39m, in \u001b[36m_get_store\u001b[39m\u001b[34m(store_uri, artifact_uri)\u001b[39m\n\u001b[32m    215\u001b[39m \u001b[38;5;28;01mdef\u001b[39;00m\u001b[38;5;250m \u001b[39m\u001b[34m_get_store\u001b[39m(store_uri=\u001b[38;5;28;01mNone\u001b[39;00m, artifact_uri=\u001b[38;5;28;01mNone\u001b[39;00m):\n\u001b[32m--> \u001b[39m\u001b[32m216\u001b[39m     \u001b[38;5;28;01mreturn\u001b[39;00m \u001b[43m_tracking_store_registry\u001b[49m\u001b[43m.\u001b[49m\u001b[43mget_store\u001b[49m\u001b[43m(\u001b[49m\u001b[43mstore_uri\u001b[49m\u001b[43m,\u001b[49m\u001b[43m \u001b[49m\u001b[43martifact_uri\u001b[49m\u001b[43m)\u001b[49m\n",
            "\u001b[36mFile \u001b[39m\u001b[32m~/Repos/market_intelligence_app/.venv/lib/python3.12/site-packages/mlflow/tracking/_tracking_service/registry.py:45\u001b[39m, in \u001b[36mTrackingStoreRegistry.get_store\u001b[39m\u001b[34m(self, store_uri, artifact_uri)\u001b[39m\n\u001b[32m     42\u001b[39m \u001b[38;5;28;01mfrom\u001b[39;00m\u001b[38;5;250m \u001b[39m\u001b[34;01mmlflow\u001b[39;00m\u001b[34;01m.\u001b[39;00m\u001b[34;01mtracking\u001b[39;00m\u001b[34;01m.\u001b[39;00m\u001b[34;01m_tracking_service\u001b[39;00m\u001b[38;5;250m \u001b[39m\u001b[38;5;28;01mimport\u001b[39;00m utils\n\u001b[32m     44\u001b[39m resolved_store_uri = utils._resolve_tracking_uri(store_uri)\n\u001b[32m---> \u001b[39m\u001b[32m45\u001b[39m \u001b[38;5;28;01mreturn\u001b[39;00m \u001b[38;5;28;43mself\u001b[39;49m\u001b[43m.\u001b[49m\u001b[43m_get_store_with_resolved_uri\u001b[49m\u001b[43m(\u001b[49m\u001b[43mresolved_store_uri\u001b[49m\u001b[43m,\u001b[49m\u001b[43m \u001b[49m\u001b[43martifact_uri\u001b[49m\u001b[43m)\u001b[49m\n",
            "\u001b[36mFile \u001b[39m\u001b[32m~/Repos/market_intelligence_app/.venv/lib/python3.12/site-packages/mlflow/tracking/_tracking_service/registry.py:56\u001b[39m, in \u001b[36mTrackingStoreRegistry._get_store_with_resolved_uri\u001b[39m\u001b[34m(self, resolved_store_uri, artifact_uri)\u001b[39m\n\u001b[32m     54\u001b[39m \u001b[38;5;28;01mwith\u001b[39;00m _building_store_lock:\n\u001b[32m     55\u001b[39m     builder = \u001b[38;5;28mself\u001b[39m.get_store_builder(resolved_store_uri)\n\u001b[32m---> \u001b[39m\u001b[32m56\u001b[39m     \u001b[38;5;28;01mreturn\u001b[39;00m \u001b[43mbuilder\u001b[49m\u001b[43m(\u001b[49m\u001b[43mstore_uri\u001b[49m\u001b[43m=\u001b[49m\u001b[43mresolved_store_uri\u001b[49m\u001b[43m,\u001b[49m\u001b[43m \u001b[49m\u001b[43martifact_uri\u001b[49m\u001b[43m=\u001b[49m\u001b[43martifact_uri\u001b[49m\u001b[43m)\u001b[49m\n",
            "\u001b[36mFile \u001b[39m\u001b[32m~/Repos/market_intelligence_app/.venv/lib/python3.12/site-packages/mlflow/tracking/_tracking_service/utils.py:168\u001b[39m, in \u001b[36m_get_databricks_uc_rest_store\u001b[39m\u001b[34m(store_uri, **_)\u001b[39m\n\u001b[32m    161\u001b[39m \u001b[38;5;28;01mfrom\u001b[39;00m\u001b[38;5;250m \u001b[39m\u001b[34;01mmlflow\u001b[39;00m\u001b[34;01m.\u001b[39;00m\u001b[34;01mversion\u001b[39;00m\u001b[38;5;250m \u001b[39m\u001b[38;5;28;01mimport\u001b[39;00m VERSION\n\u001b[32m    163\u001b[39m supported_schemes = [\n\u001b[32m    164\u001b[39m     scheme\n\u001b[32m    165\u001b[39m     \u001b[38;5;28;01mfor\u001b[39;00m scheme \u001b[38;5;129;01min\u001b[39;00m _tracking_store_registry._registry\n\u001b[32m    166\u001b[39m     \u001b[38;5;28;01mif\u001b[39;00m scheme \u001b[38;5;129;01mnot\u001b[39;00m \u001b[38;5;129;01min\u001b[39;00m {_DATABRICKS_UNITY_CATALOG_SCHEME, _OSS_UNITY_CATALOG_SCHEME}\n\u001b[32m    167\u001b[39m ]\n\u001b[32m--> \u001b[39m\u001b[32m168\u001b[39m \u001b[38;5;28;01mraise\u001b[39;00m MlflowException(\n\u001b[32m    169\u001b[39m     \u001b[33mf\u001b[39m\u001b[33m\"\u001b[39m\u001b[33mDetected Unity Catalog tracking URI \u001b[39m\u001b[33m'\u001b[39m\u001b[38;5;132;01m{\u001b[39;00mstore_uri\u001b[38;5;132;01m}\u001b[39;00m\u001b[33m'\u001b[39m\u001b[33m. \u001b[39m\u001b[33m\"\u001b[39m\n\u001b[32m    170\u001b[39m     \u001b[33m\"\u001b[39m\u001b[33mSetting the tracking URI to a Unity Catalog backend is not supported in the current \u001b[39m\u001b[33m\"\u001b[39m\n\u001b[32m    171\u001b[39m     \u001b[33mf\u001b[39m\u001b[33m\"\u001b[39m\u001b[33mversion of the MLflow client (\u001b[39m\u001b[38;5;132;01m{\u001b[39;00mVERSION\u001b[38;5;132;01m}\u001b[39;00m\u001b[33m). \u001b[39m\u001b[33m\"\u001b[39m\n\u001b[32m    172\u001b[39m     \u001b[33m\"\u001b[39m\u001b[33mPlease specify a different tracking URI via mlflow.set_tracking_uri, with \u001b[39m\u001b[33m\"\u001b[39m\n\u001b[32m    173\u001b[39m     \u001b[33m\"\u001b[39m\u001b[33mone of the supported schemes: \u001b[39m\u001b[33m\"\u001b[39m\n\u001b[32m    174\u001b[39m     \u001b[33mf\u001b[39m\u001b[33m\"\u001b[39m\u001b[38;5;132;01m{\u001b[39;00msupported_schemes\u001b[38;5;132;01m}\u001b[39;00m\u001b[33m. If you\u001b[39m\u001b[33m'\u001b[39m\u001b[33mre trying to access models in the Unity \u001b[39m\u001b[33m\"\u001b[39m\n\u001b[32m    175\u001b[39m     \u001b[33m\"\u001b[39m\u001b[33mCatalog, please upgrade to the latest version of the MLflow Python \u001b[39m\u001b[33m\"\u001b[39m\n\u001b[32m    176\u001b[39m     \u001b[33m\"\u001b[39m\u001b[33mclient, then specify a Unity Catalog model registry URI via \u001b[39m\u001b[33m\"\u001b[39m\n\u001b[32m    177\u001b[39m     \u001b[33mf\u001b[39m\u001b[33m\"\u001b[39m\u001b[33mmlflow.set_registry_uri(\u001b[39m\u001b[33m'\u001b[39m\u001b[38;5;132;01m{\u001b[39;00m_DATABRICKS_UNITY_CATALOG_SCHEME\u001b[38;5;132;01m}\u001b[39;00m\u001b[33m'\u001b[39m\u001b[33m) or \u001b[39m\u001b[33m\"\u001b[39m\n\u001b[32m    178\u001b[39m     \u001b[33mf\u001b[39m\u001b[33m\"\u001b[39m\u001b[33mmlflow.set_registry_uri(\u001b[39m\u001b[33m'\u001b[39m\u001b[38;5;132;01m{\u001b[39;00m_DATABRICKS_UNITY_CATALOG_SCHEME\u001b[38;5;132;01m}\u001b[39;00m\u001b[33m://profile_name\u001b[39m\u001b[33m'\u001b[39m\u001b[33m) where \u001b[39m\u001b[33m\"\u001b[39m\n\u001b[32m    179\u001b[39m     \u001b[33m\"\u001b[39m\u001b[33m'\u001b[39m\u001b[33mprofile_name\u001b[39m\u001b[33m'\u001b[39m\u001b[33m is the name of the Databricks CLI profile to use for \u001b[39m\u001b[33m\"\u001b[39m\n\u001b[32m    180\u001b[39m     \u001b[33m\"\u001b[39m\u001b[33mauthentication. A OSS Unity Catalog model registry URI can also be specified via \u001b[39m\u001b[33m\"\u001b[39m\n\u001b[32m    181\u001b[39m     \u001b[33mf\u001b[39m\u001b[33m\"\u001b[39m\u001b[33mmlflow.set_registry_uri(\u001b[39m\u001b[33m'\u001b[39m\u001b[38;5;132;01m{\u001b[39;00m_OSS_UNITY_CATALOG_SCHEME\u001b[38;5;132;01m}\u001b[39;00m\u001b[33m:http://localhost:8080\u001b[39m\u001b[33m'\u001b[39m\u001b[33m).\u001b[39m\u001b[33m\"\u001b[39m\n\u001b[32m    182\u001b[39m     \u001b[33m\"\u001b[39m\u001b[33mBe sure to leave the registry URI configured to use one of the supported\u001b[39m\u001b[33m\"\u001b[39m\n\u001b[32m    183\u001b[39m     \u001b[33m\"\u001b[39m\u001b[33mschemes listed above.\u001b[39m\u001b[33m\"\u001b[39m\n\u001b[32m    184\u001b[39m )\n",
            "\u001b[31mMlflowException\u001b[39m: Detected Unity Catalog tracking URI 'databricks-uc'. Setting the tracking URI to a Unity Catalog backend is not supported in the current version of the MLflow client (3.5.1). Please specify a different tracking URI via mlflow.set_tracking_uri, with one of the supported schemes: ['', 'file', 'databricks', 'http', 'https', 'postgresql', 'mysql', 'sqlite', 'mssql']. If you're trying to access models in the Unity Catalog, please upgrade to the latest version of the MLflow Python client, then specify a Unity Catalog model registry URI via mlflow.set_registry_uri('databricks-uc') or mlflow.set_registry_uri('databricks-uc://profile_name') where 'profile_name' is the name of the Databricks CLI profile to use for authentication. A OSS Unity Catalog model registry URI can also be specified via mlflow.set_registry_uri('uc:http://localhost:8080').Be sure to leave the registry URI configured to use one of the supportedschemes listed above."
          ]
        }
      ],
      "source": [
        "mlflow.search_experiments(max_results=3)"
      ]
    },
    {
      "cell_type": "code",
      "execution_count": 3,
      "metadata": {},
      "outputs": [
        {
          "name": "stdout",
          "output_type": "stream",
          "text": [
            "\n",
            "❌ Experiment not found: /Users/jag.jasani@databricks.com/mas-1ab024e9-dev-experiment\n",
            "\n",
            "❌ Error getting experiment: Experiment not found: /Users/jag.jasani@databricks.com/mas-1ab024e9-dev-experiment\n"
          ]
        },
        {
          "name": "stderr",
          "output_type": "stream",
          "text": [
            "Traceback (most recent call last):\n",
            "  File \"/var/folders/2x/pf13chqx4614qjlmjdgmndv00000gp/T/ipykernel_128/3498501235.py\", line 11, in <module>\n",
            "    raise ValueError(f\"Experiment not found: {config.experiment_name}\")\n",
            "ValueError: Experiment not found: /Users/jag.jasani@databricks.com/mas-1ab024e9-dev-experiment\n"
          ]
        },
        {
          "ename": "ValueError",
          "evalue": "Experiment not found: /Users/jag.jasani@databricks.com/mas-1ab024e9-dev-experiment",
          "output_type": "error",
          "traceback": [
            "\u001b[31m---------------------------------------------------------------------------\u001b[39m",
            "\u001b[31mValueError\u001b[39m                                Traceback (most recent call last)",
            "\u001b[36mCell\u001b[39m\u001b[36m \u001b[39m\u001b[32mIn[3]\u001b[39m\u001b[32m, line 11\u001b[39m\n\u001b[32m      9\u001b[39m     \u001b[38;5;28;01melse\u001b[39;00m:\n\u001b[32m     10\u001b[39m         \u001b[38;5;28mprint\u001b[39m(\u001b[33mf\u001b[39m\u001b[33m\"\u001b[39m\u001b[38;5;130;01m\\n\u001b[39;00m\u001b[33m❌ Experiment not found: \u001b[39m\u001b[38;5;132;01m{\u001b[39;00mconfig.experiment_name\u001b[38;5;132;01m}\u001b[39;00m\u001b[33m\"\u001b[39m)\n\u001b[32m---> \u001b[39m\u001b[32m11\u001b[39m         \u001b[38;5;28;01mraise\u001b[39;00m \u001b[38;5;167;01mValueError\u001b[39;00m(\u001b[33mf\u001b[39m\u001b[33m\"\u001b[39m\u001b[33mExperiment not found: \u001b[39m\u001b[38;5;132;01m{\u001b[39;00mconfig.experiment_name\u001b[38;5;132;01m}\u001b[39;00m\u001b[33m\"\u001b[39m)\n\u001b[32m     12\u001b[39m \u001b[38;5;28;01mexcept\u001b[39;00m \u001b[38;5;167;01mException\u001b[39;00m \u001b[38;5;28;01mas\u001b[39;00m e:\n\u001b[32m     13\u001b[39m     \u001b[38;5;28mprint\u001b[39m(\u001b[33mf\u001b[39m\u001b[33m\"\u001b[39m\u001b[38;5;130;01m\\n\u001b[39;00m\u001b[33m❌ Error getting experiment: \u001b[39m\u001b[38;5;132;01m{\u001b[39;00me\u001b[38;5;132;01m}\u001b[39;00m\u001b[33m\"\u001b[39m)\n",
            "\u001b[31mValueError\u001b[39m: Experiment not found: /Users/jag.jasani@databricks.com/mas-1ab024e9-dev-experiment"
          ]
        }
      ],
      "source": [
        "# Get experiment\n",
        "try:\n",
        "    experiment = mlflow.get_experiment_by_name(config.experiment_name)\n",
        "    if experiment:\n",
        "        print(f\"\\n✅ Found experiment:\")\n",
        "        print(f\"   - Name: {experiment.name}\")\n",
        "        print(f\"   - ID: {experiment.experiment_id}\")\n",
        "        print(f\"   - Artifact Location: {experiment.artifact_location}\")\n",
        "    else:\n",
        "        print(f\"\\n❌ Experiment not found: {config.experiment_name}\")\n",
        "        raise ValueError(f\"Experiment not found: {config.experiment_name}\")\n",
        "except Exception as e:\n",
        "    print(f\"\\n❌ Error getting experiment: {e}\")\n",
        "    import traceback\n",
        "    traceback.print_exc()\n",
        "    raise\n"
      ]
    },
    {
      "cell_type": "markdown",
      "metadata": {},
      "source": [
        "## 4. Search for Traces\n"
      ]
    },
    {
      "cell_type": "code",
      "execution_count": null,
      "metadata": {},
      "outputs": [],
      "source": [
        "# Search for traces\n",
        "print(f\"\\n🔍 Searching for traces in experiment {experiment.experiment_id}...\")\n",
        "try:\n",
        "    traces = mlflow.search_traces(\n",
        "        experiment_ids=[experiment.experiment_id], \n",
        "        max_results=5, \n",
        "        order_by=[\"timestamp_ms DESC\"]\n",
        "    )\n",
        "\n",
        "    if traces is not None and not traces.empty:\n",
        "        print(f\"\\n✅ Found {len(traces)} traces:\")\n",
        "        print(\"\\n\" + \"=\" * 80)\n",
        "        for idx, trace_row in traces.iterrows():\n",
        "            trace_id = trace_row.get(\"request_id\")\n",
        "            timestamp = trace_row.get(\"timestamp_ms\")\n",
        "            status = trace_row.get(\"status\")\n",
        "            print(f\"\\nTrace {idx + 1}:\")\n",
        "            print(f\"   - Request ID: {trace_id}\")\n",
        "            print(f\"   - Timestamp: {timestamp}\")\n",
        "            print(f\"   - Status: {status}\")\n",
        "\n",
        "            # Show all available columns\n",
        "            print(f\"   - Available columns: {list(trace_row.index)}\")\n",
        "        print(\"=\" * 80)\n",
        "    else:\n",
        "        print(f\"\\n⚠️ No traces found in experiment\")\n",
        "        print(f\"\\nThis means the agent is not logging traces to this experiment.\")\n",
        "        print(f\"The traces might be in a different experiment or not being logged at all.\")\n",
        "        traces = None\n",
        "\n",
        "except Exception as e:\n",
        "    print(f\"\\n❌ Error searching traces: {e}\")\n",
        "    import traceback\n",
        "    traceback.print_exc()\n",
        "    raise\n"
      ]
    },
    {
      "cell_type": "markdown",
      "metadata": {},
      "source": [
        "## 5. Test Feedback Logging\n",
        "\n",
        "Test logging feedback to the most recent trace.\n"
      ]
    },
    {
      "cell_type": "code",
      "execution_count": null,
      "metadata": {},
      "outputs": [],
      "source": [
        "if traces is not None and not traces.empty:\n",
        "    # Get the most recent trace\n",
        "    most_recent = traces.iloc[0]\n",
        "    trace_id = most_recent.get(\"request_id\")\n",
        "\n",
        "    print(f\"\\n📋 Most recent trace ID: {trace_id}\")\n",
        "\n",
        "    # Test logging feedback to this trace\n",
        "    print(f\"\\n🧪 Testing feedback logging to trace: {trace_id}\")\n",
        "\n",
        "    user_id = \"test_user@example.com\"\n",
        "\n",
        "    # Test 1: Log satisfaction feedback\n",
        "    print(f\"\\n1️⃣ Testing log_feedback (user_satisfaction)...\")\n",
        "    try:\n",
        "        mlflow.log_feedback(\n",
        "            trace_id=trace_id,\n",
        "            name=\"user_satisfaction\",\n",
        "            value=True,\n",
        "            source=AssessmentSource(\n",
        "                source_type=AssessmentSourceType.HUMAN, \n",
        "                source_id=user_id\n",
        "            ),\n",
        "        )\n",
        "        print(f\"   ✅ Successfully logged satisfaction feedback\")\n",
        "    except Exception as e:\n",
        "        print(f\"   ❌ Error logging satisfaction feedback: {e}\")\n",
        "        import traceback\n",
        "        traceback.print_exc()\n",
        "\n",
        "    # Test 2: Log review request\n",
        "    print(f\"\\n2️⃣ Testing log_feedback (flagged_for_review)...\")\n",
        "    try:\n",
        "        mlflow.log_feedback(\n",
        "            trace_id=trace_id,\n",
        "            name=\"flagged_for_review\",\n",
        "            value=True,\n",
        "            source=AssessmentSource(\n",
        "                source_type=AssessmentSourceType.HUMAN, \n",
        "                source_id=user_id\n",
        "            ),\n",
        "        )\n",
        "        print(f\"   ✅ Successfully logged review request\")\n",
        "    except Exception as e:\n",
        "        print(f\"   ❌ Error logging review request: {e}\")\n",
        "        import traceback\n",
        "        traceback.print_exc()\n",
        "\n",
        "    # Test 3: Log correction/expectation\n",
        "    print(f\"\\n3️⃣ Testing log_expectation (user_correction)...\")\n",
        "    try:\n",
        "        mlflow.log_expectation(\n",
        "            trace_id=trace_id,\n",
        "            name=\"user_correction\",\n",
        "            value=[\"This is a test correction from the debug script\"],\n",
        "            source=AssessmentSource(\n",
        "                source_type=AssessmentSourceType.HUMAN, \n",
        "                source_id=user_id\n",
        "            ),\n",
        "        )\n",
        "        print(f\"   ✅ Successfully logged correction\")\n",
        "    except Exception as e:\n",
        "        print(f\"   ❌ Error logging correction: {e}\")\n",
        "        import traceback\n",
        "        traceback.print_exc()\n",
        "else:\n",
        "    print(\"\\n⚠️ Skipping feedback tests - no traces available\")\n"
      ]
    },
    {
      "cell_type": "markdown",
      "metadata": {},
      "source": [
        "## 6. Verify Feedback Was Logged\n",
        "\n",
        "Retrieve the trace again to check if feedback was added.\n"
      ]
    },
    {
      "cell_type": "markdown",
      "metadata": {},
      "source": []
    }
  ],
  "metadata": {
    "kernelspec": {
      "display_name": ".venv",
      "language": "python",
      "name": "python3"
    },
    "language_info": {
      "codemirror_mode": {
        "name": "ipython",
        "version": 3
      },
      "file_extension": ".py",
      "mimetype": "text/x-python",
      "name": "python",
      "nbconvert_exporter": "python",
      "pygments_lexer": "ipython3",
      "version": "3.12.3"
    }
  },
  "nbformat": 4,
  "nbformat_minor": 2
}
